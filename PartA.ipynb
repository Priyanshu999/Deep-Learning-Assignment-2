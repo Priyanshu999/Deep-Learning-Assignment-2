{
  "nbformat": 4,
  "nbformat_minor": 0,
  "metadata": {
    "colab": {
      "provenance": [],
      "gpuType": "T4"
    },
    "kernelspec": {
      "name": "python3",
      "display_name": "Python 3"
    },
    "language_info": {
      "name": "python"
    },
    "accelerator": "GPU"
  },
  "cells": [
    {
      "cell_type": "code",
      "execution_count": 1,
      "metadata": {
        "colab": {
          "base_uri": "https://localhost:8080/"
        },
        "id": "-VVr9l54QJg6",
        "outputId": "95bdf572-f82b-4322-b1e7-1d72bffacf01"
      },
      "outputs": [
        {
          "output_type": "stream",
          "name": "stdout",
          "text": [
            "Collecting pytorch-lightning\n",
            "  Downloading pytorch_lightning-2.5.1-py3-none-any.whl.metadata (20 kB)\n",
            "Requirement already satisfied: torch>=2.1.0 in /usr/local/lib/python3.11/dist-packages (from pytorch-lightning) (2.6.0+cu124)\n",
            "Requirement already satisfied: tqdm>=4.57.0 in /usr/local/lib/python3.11/dist-packages (from pytorch-lightning) (4.67.1)\n",
            "Requirement already satisfied: PyYAML>=5.4 in /usr/local/lib/python3.11/dist-packages (from pytorch-lightning) (6.0.2)\n",
            "Requirement already satisfied: fsspec>=2022.5.0 in /usr/local/lib/python3.11/dist-packages (from fsspec[http]>=2022.5.0->pytorch-lightning) (2025.3.2)\n",
            "Collecting torchmetrics>=0.7.0 (from pytorch-lightning)\n",
            "  Downloading torchmetrics-1.7.1-py3-none-any.whl.metadata (21 kB)\n",
            "Requirement already satisfied: packaging>=20.0 in /usr/local/lib/python3.11/dist-packages (from pytorch-lightning) (24.2)\n",
            "Requirement already satisfied: typing-extensions>=4.4.0 in /usr/local/lib/python3.11/dist-packages (from pytorch-lightning) (4.13.1)\n",
            "Collecting lightning-utilities>=0.10.0 (from pytorch-lightning)\n",
            "  Downloading lightning_utilities-0.14.3-py3-none-any.whl.metadata (5.6 kB)\n",
            "Requirement already satisfied: aiohttp!=4.0.0a0,!=4.0.0a1 in /usr/local/lib/python3.11/dist-packages (from fsspec[http]>=2022.5.0->pytorch-lightning) (3.11.15)\n",
            "Requirement already satisfied: setuptools in /usr/local/lib/python3.11/dist-packages (from lightning-utilities>=0.10.0->pytorch-lightning) (75.2.0)\n",
            "Requirement already satisfied: filelock in /usr/local/lib/python3.11/dist-packages (from torch>=2.1.0->pytorch-lightning) (3.18.0)\n",
            "Requirement already satisfied: networkx in /usr/local/lib/python3.11/dist-packages (from torch>=2.1.0->pytorch-lightning) (3.4.2)\n",
            "Requirement already satisfied: jinja2 in /usr/local/lib/python3.11/dist-packages (from torch>=2.1.0->pytorch-lightning) (3.1.6)\n",
            "Collecting nvidia-cuda-nvrtc-cu12==12.4.127 (from torch>=2.1.0->pytorch-lightning)\n",
            "  Downloading nvidia_cuda_nvrtc_cu12-12.4.127-py3-none-manylinux2014_x86_64.whl.metadata (1.5 kB)\n",
            "Collecting nvidia-cuda-runtime-cu12==12.4.127 (from torch>=2.1.0->pytorch-lightning)\n",
            "  Downloading nvidia_cuda_runtime_cu12-12.4.127-py3-none-manylinux2014_x86_64.whl.metadata (1.5 kB)\n",
            "Collecting nvidia-cuda-cupti-cu12==12.4.127 (from torch>=2.1.0->pytorch-lightning)\n",
            "  Downloading nvidia_cuda_cupti_cu12-12.4.127-py3-none-manylinux2014_x86_64.whl.metadata (1.6 kB)\n",
            "Collecting nvidia-cudnn-cu12==9.1.0.70 (from torch>=2.1.0->pytorch-lightning)\n",
            "  Downloading nvidia_cudnn_cu12-9.1.0.70-py3-none-manylinux2014_x86_64.whl.metadata (1.6 kB)\n",
            "Collecting nvidia-cublas-cu12==12.4.5.8 (from torch>=2.1.0->pytorch-lightning)\n",
            "  Downloading nvidia_cublas_cu12-12.4.5.8-py3-none-manylinux2014_x86_64.whl.metadata (1.5 kB)\n",
            "Collecting nvidia-cufft-cu12==11.2.1.3 (from torch>=2.1.0->pytorch-lightning)\n",
            "  Downloading nvidia_cufft_cu12-11.2.1.3-py3-none-manylinux2014_x86_64.whl.metadata (1.5 kB)\n",
            "Collecting nvidia-curand-cu12==10.3.5.147 (from torch>=2.1.0->pytorch-lightning)\n",
            "  Downloading nvidia_curand_cu12-10.3.5.147-py3-none-manylinux2014_x86_64.whl.metadata (1.5 kB)\n",
            "Collecting nvidia-cusolver-cu12==11.6.1.9 (from torch>=2.1.0->pytorch-lightning)\n",
            "  Downloading nvidia_cusolver_cu12-11.6.1.9-py3-none-manylinux2014_x86_64.whl.metadata (1.6 kB)\n",
            "Collecting nvidia-cusparse-cu12==12.3.1.170 (from torch>=2.1.0->pytorch-lightning)\n",
            "  Downloading nvidia_cusparse_cu12-12.3.1.170-py3-none-manylinux2014_x86_64.whl.metadata (1.6 kB)\n",
            "Requirement already satisfied: nvidia-cusparselt-cu12==0.6.2 in /usr/local/lib/python3.11/dist-packages (from torch>=2.1.0->pytorch-lightning) (0.6.2)\n",
            "Requirement already satisfied: nvidia-nccl-cu12==2.21.5 in /usr/local/lib/python3.11/dist-packages (from torch>=2.1.0->pytorch-lightning) (2.21.5)\n",
            "Requirement already satisfied: nvidia-nvtx-cu12==12.4.127 in /usr/local/lib/python3.11/dist-packages (from torch>=2.1.0->pytorch-lightning) (12.4.127)\n",
            "Collecting nvidia-nvjitlink-cu12==12.4.127 (from torch>=2.1.0->pytorch-lightning)\n",
            "  Downloading nvidia_nvjitlink_cu12-12.4.127-py3-none-manylinux2014_x86_64.whl.metadata (1.5 kB)\n",
            "Requirement already satisfied: triton==3.2.0 in /usr/local/lib/python3.11/dist-packages (from torch>=2.1.0->pytorch-lightning) (3.2.0)\n",
            "Requirement already satisfied: sympy==1.13.1 in /usr/local/lib/python3.11/dist-packages (from torch>=2.1.0->pytorch-lightning) (1.13.1)\n",
            "Requirement already satisfied: mpmath<1.4,>=1.1.0 in /usr/local/lib/python3.11/dist-packages (from sympy==1.13.1->torch>=2.1.0->pytorch-lightning) (1.3.0)\n",
            "Requirement already satisfied: numpy>1.20.0 in /usr/local/lib/python3.11/dist-packages (from torchmetrics>=0.7.0->pytorch-lightning) (2.0.2)\n",
            "Requirement already satisfied: aiohappyeyeballs>=2.3.0 in /usr/local/lib/python3.11/dist-packages (from aiohttp!=4.0.0a0,!=4.0.0a1->fsspec[http]>=2022.5.0->pytorch-lightning) (2.6.1)\n",
            "Requirement already satisfied: aiosignal>=1.1.2 in /usr/local/lib/python3.11/dist-packages (from aiohttp!=4.0.0a0,!=4.0.0a1->fsspec[http]>=2022.5.0->pytorch-lightning) (1.3.2)\n",
            "Requirement already satisfied: attrs>=17.3.0 in /usr/local/lib/python3.11/dist-packages (from aiohttp!=4.0.0a0,!=4.0.0a1->fsspec[http]>=2022.5.0->pytorch-lightning) (25.3.0)\n",
            "Requirement already satisfied: frozenlist>=1.1.1 in /usr/local/lib/python3.11/dist-packages (from aiohttp!=4.0.0a0,!=4.0.0a1->fsspec[http]>=2022.5.0->pytorch-lightning) (1.5.0)\n",
            "Requirement already satisfied: multidict<7.0,>=4.5 in /usr/local/lib/python3.11/dist-packages (from aiohttp!=4.0.0a0,!=4.0.0a1->fsspec[http]>=2022.5.0->pytorch-lightning) (6.3.2)\n",
            "Requirement already satisfied: propcache>=0.2.0 in /usr/local/lib/python3.11/dist-packages (from aiohttp!=4.0.0a0,!=4.0.0a1->fsspec[http]>=2022.5.0->pytorch-lightning) (0.3.1)\n",
            "Requirement already satisfied: yarl<2.0,>=1.17.0 in /usr/local/lib/python3.11/dist-packages (from aiohttp!=4.0.0a0,!=4.0.0a1->fsspec[http]>=2022.5.0->pytorch-lightning) (1.18.3)\n",
            "Requirement already satisfied: MarkupSafe>=2.0 in /usr/local/lib/python3.11/dist-packages (from jinja2->torch>=2.1.0->pytorch-lightning) (3.0.2)\n",
            "Requirement already satisfied: idna>=2.0 in /usr/local/lib/python3.11/dist-packages (from yarl<2.0,>=1.17.0->aiohttp!=4.0.0a0,!=4.0.0a1->fsspec[http]>=2022.5.0->pytorch-lightning) (3.10)\n",
            "Downloading pytorch_lightning-2.5.1-py3-none-any.whl (822 kB)\n",
            "\u001b[2K   \u001b[90m━━━━━━━━━━━━━━━━━━━━━━━━━━━━━━━━━━━━━━━━\u001b[0m \u001b[32m823.0/823.0 kB\u001b[0m \u001b[31m16.8 MB/s\u001b[0m eta \u001b[36m0:00:00\u001b[0m\n",
            "\u001b[?25hDownloading lightning_utilities-0.14.3-py3-none-any.whl (28 kB)\n",
            "Downloading nvidia_cublas_cu12-12.4.5.8-py3-none-manylinux2014_x86_64.whl (363.4 MB)\n",
            "\u001b[2K   \u001b[90m━━━━━━━━━━━━━━━━━━━━━━━━━━━━━━━━━━━━━━━━\u001b[0m \u001b[32m363.4/363.4 MB\u001b[0m \u001b[31m3.6 MB/s\u001b[0m eta \u001b[36m0:00:00\u001b[0m\n",
            "\u001b[?25hDownloading nvidia_cuda_cupti_cu12-12.4.127-py3-none-manylinux2014_x86_64.whl (13.8 MB)\n",
            "\u001b[2K   \u001b[90m━━━━━━━━━━━━━━━━━━━━━━━━━━━━━━━━━━━━━━━━\u001b[0m \u001b[32m13.8/13.8 MB\u001b[0m \u001b[31m29.7 MB/s\u001b[0m eta \u001b[36m0:00:00\u001b[0m\n",
            "\u001b[?25hDownloading nvidia_cuda_nvrtc_cu12-12.4.127-py3-none-manylinux2014_x86_64.whl (24.6 MB)\n",
            "\u001b[2K   \u001b[90m━━━━━━━━━━━━━━━━━━━━━━━━━━━━━━━━━━━━━━━━\u001b[0m \u001b[32m24.6/24.6 MB\u001b[0m \u001b[31m25.0 MB/s\u001b[0m eta \u001b[36m0:00:00\u001b[0m\n",
            "\u001b[?25hDownloading nvidia_cuda_runtime_cu12-12.4.127-py3-none-manylinux2014_x86_64.whl (883 kB)\n",
            "\u001b[2K   \u001b[90m━━━━━━━━━━━━━━━━━━━━━━━━━━━━━━━━━━━━━━━━\u001b[0m \u001b[32m883.7/883.7 kB\u001b[0m \u001b[31m21.2 MB/s\u001b[0m eta \u001b[36m0:00:00\u001b[0m\n",
            "\u001b[?25hDownloading nvidia_cudnn_cu12-9.1.0.70-py3-none-manylinux2014_x86_64.whl (664.8 MB)\n",
            "\u001b[2K   \u001b[90m━━━━━━━━━━━━━━━━━━━━━━━━━━━━━━━━━━━━━━━━\u001b[0m \u001b[32m664.8/664.8 MB\u001b[0m \u001b[31m2.8 MB/s\u001b[0m eta \u001b[36m0:00:00\u001b[0m\n",
            "\u001b[?25hDownloading nvidia_cufft_cu12-11.2.1.3-py3-none-manylinux2014_x86_64.whl (211.5 MB)\n",
            "\u001b[2K   \u001b[90m━━━━━━━━━━━━━━━━━━━━━━━━━━━━━━━━━━━━━━━━\u001b[0m \u001b[32m211.5/211.5 MB\u001b[0m \u001b[31m5.7 MB/s\u001b[0m eta \u001b[36m0:00:00\u001b[0m\n",
            "\u001b[?25hDownloading nvidia_curand_cu12-10.3.5.147-py3-none-manylinux2014_x86_64.whl (56.3 MB)\n",
            "\u001b[2K   \u001b[90m━━━━━━━━━━━━━━━━━━━━━━━━━━━━━━━━━━━━━━━━\u001b[0m \u001b[32m56.3/56.3 MB\u001b[0m \u001b[31m11.9 MB/s\u001b[0m eta \u001b[36m0:00:00\u001b[0m\n",
            "\u001b[?25hDownloading nvidia_cusolver_cu12-11.6.1.9-py3-none-manylinux2014_x86_64.whl (127.9 MB)\n",
            "\u001b[2K   \u001b[90m━━━━━━━━━━━━━━━━━━━━━━━━━━━━━━━━━━━━━━━━\u001b[0m \u001b[32m127.9/127.9 MB\u001b[0m \u001b[31m7.4 MB/s\u001b[0m eta \u001b[36m0:00:00\u001b[0m\n",
            "\u001b[?25hDownloading nvidia_cusparse_cu12-12.3.1.170-py3-none-manylinux2014_x86_64.whl (207.5 MB)\n",
            "\u001b[2K   \u001b[90m━━━━━━━━━━━━━━━━━━━━━━━━━━━━━━━━━━━━━━━━\u001b[0m \u001b[32m207.5/207.5 MB\u001b[0m \u001b[31m5.4 MB/s\u001b[0m eta \u001b[36m0:00:00\u001b[0m\n",
            "\u001b[?25hDownloading nvidia_nvjitlink_cu12-12.4.127-py3-none-manylinux2014_x86_64.whl (21.1 MB)\n",
            "\u001b[2K   \u001b[90m━━━━━━━━━━━━━━━━━━━━━━━━━━━━━━━━━━━━━━━━\u001b[0m \u001b[32m21.1/21.1 MB\u001b[0m \u001b[31m88.9 MB/s\u001b[0m eta \u001b[36m0:00:00\u001b[0m\n",
            "\u001b[?25hDownloading torchmetrics-1.7.1-py3-none-any.whl (961 kB)\n",
            "\u001b[2K   \u001b[90m━━━━━━━━━━━━━━━━━━━━━━━━━━━━━━━━━━━━━━━━\u001b[0m \u001b[32m961.5/961.5 kB\u001b[0m \u001b[31m48.9 MB/s\u001b[0m eta \u001b[36m0:00:00\u001b[0m\n",
            "\u001b[?25hInstalling collected packages: nvidia-nvjitlink-cu12, nvidia-curand-cu12, nvidia-cufft-cu12, nvidia-cuda-runtime-cu12, nvidia-cuda-nvrtc-cu12, nvidia-cuda-cupti-cu12, nvidia-cublas-cu12, lightning-utilities, nvidia-cusparse-cu12, nvidia-cudnn-cu12, nvidia-cusolver-cu12, torchmetrics, pytorch-lightning\n",
            "  Attempting uninstall: nvidia-nvjitlink-cu12\n",
            "    Found existing installation: nvidia-nvjitlink-cu12 12.5.82\n",
            "    Uninstalling nvidia-nvjitlink-cu12-12.5.82:\n",
            "      Successfully uninstalled nvidia-nvjitlink-cu12-12.5.82\n",
            "  Attempting uninstall: nvidia-curand-cu12\n",
            "    Found existing installation: nvidia-curand-cu12 10.3.6.82\n",
            "    Uninstalling nvidia-curand-cu12-10.3.6.82:\n",
            "      Successfully uninstalled nvidia-curand-cu12-10.3.6.82\n",
            "  Attempting uninstall: nvidia-cufft-cu12\n",
            "    Found existing installation: nvidia-cufft-cu12 11.2.3.61\n",
            "    Uninstalling nvidia-cufft-cu12-11.2.3.61:\n",
            "      Successfully uninstalled nvidia-cufft-cu12-11.2.3.61\n",
            "  Attempting uninstall: nvidia-cuda-runtime-cu12\n",
            "    Found existing installation: nvidia-cuda-runtime-cu12 12.5.82\n",
            "    Uninstalling nvidia-cuda-runtime-cu12-12.5.82:\n",
            "      Successfully uninstalled nvidia-cuda-runtime-cu12-12.5.82\n",
            "  Attempting uninstall: nvidia-cuda-nvrtc-cu12\n",
            "    Found existing installation: nvidia-cuda-nvrtc-cu12 12.5.82\n",
            "    Uninstalling nvidia-cuda-nvrtc-cu12-12.5.82:\n",
            "      Successfully uninstalled nvidia-cuda-nvrtc-cu12-12.5.82\n",
            "  Attempting uninstall: nvidia-cuda-cupti-cu12\n",
            "    Found existing installation: nvidia-cuda-cupti-cu12 12.5.82\n",
            "    Uninstalling nvidia-cuda-cupti-cu12-12.5.82:\n",
            "      Successfully uninstalled nvidia-cuda-cupti-cu12-12.5.82\n",
            "  Attempting uninstall: nvidia-cublas-cu12\n",
            "    Found existing installation: nvidia-cublas-cu12 12.5.3.2\n",
            "    Uninstalling nvidia-cublas-cu12-12.5.3.2:\n",
            "      Successfully uninstalled nvidia-cublas-cu12-12.5.3.2\n",
            "  Attempting uninstall: nvidia-cusparse-cu12\n",
            "    Found existing installation: nvidia-cusparse-cu12 12.5.1.3\n",
            "    Uninstalling nvidia-cusparse-cu12-12.5.1.3:\n",
            "      Successfully uninstalled nvidia-cusparse-cu12-12.5.1.3\n",
            "  Attempting uninstall: nvidia-cudnn-cu12\n",
            "    Found existing installation: nvidia-cudnn-cu12 9.3.0.75\n",
            "    Uninstalling nvidia-cudnn-cu12-9.3.0.75:\n",
            "      Successfully uninstalled nvidia-cudnn-cu12-9.3.0.75\n",
            "  Attempting uninstall: nvidia-cusolver-cu12\n",
            "    Found existing installation: nvidia-cusolver-cu12 11.6.3.83\n",
            "    Uninstalling nvidia-cusolver-cu12-11.6.3.83:\n",
            "      Successfully uninstalled nvidia-cusolver-cu12-11.6.3.83\n",
            "Successfully installed lightning-utilities-0.14.3 nvidia-cublas-cu12-12.4.5.8 nvidia-cuda-cupti-cu12-12.4.127 nvidia-cuda-nvrtc-cu12-12.4.127 nvidia-cuda-runtime-cu12-12.4.127 nvidia-cudnn-cu12-9.1.0.70 nvidia-cufft-cu12-11.2.1.3 nvidia-curand-cu12-10.3.5.147 nvidia-cusolver-cu12-11.6.1.9 nvidia-cusparse-cu12-12.3.1.170 nvidia-nvjitlink-cu12-12.4.127 pytorch-lightning-2.5.1 torchmetrics-1.7.1\n"
          ]
        }
      ],
      "source": [
        "!pip install pytorch-lightning"
      ]
    },
    {
      "cell_type": "code",
      "source": [
        "import torch\n",
        "import torch.nn as nn\n",
        "import torch.nn.functional as F\n",
        "import torchvision.transforms as transforms\n",
        "from torch.utils.data import DataLoader\n",
        "from torchvision.datasets import ImageFolder\n",
        "from torchvision.datasets import INaturalist\n",
        "import pytorch_lightning as pl\n",
        "import wandb\n",
        "import matplotlib.pyplot as plt\n",
        "import numpy as np\n",
        "import random"
      ],
      "metadata": {
        "id": "nq3-1V98Qb8i"
      },
      "execution_count": 2,
      "outputs": []
    },
    {
      "cell_type": "code",
      "source": [
        "!pip install split-folders"
      ],
      "metadata": {
        "colab": {
          "base_uri": "https://localhost:8080/"
        },
        "id": "5YyznVj8Qb_R",
        "outputId": "80b8919c-28dc-4fa2-f3a3-7a089b89d444"
      },
      "execution_count": 3,
      "outputs": [
        {
          "output_type": "stream",
          "name": "stdout",
          "text": [
            "Collecting split-folders\n",
            "  Downloading split_folders-0.5.1-py3-none-any.whl.metadata (6.2 kB)\n",
            "Downloading split_folders-0.5.1-py3-none-any.whl (8.4 kB)\n",
            "Installing collected packages: split-folders\n",
            "Successfully installed split-folders-0.5.1\n"
          ]
        }
      ]
    },
    {
      "cell_type": "code",
      "source": [
        "import splitfolders"
      ],
      "metadata": {
        "id": "f7LHpBKsQcBz"
      },
      "execution_count": 4,
      "outputs": []
    },
    {
      "cell_type": "code",
      "source": [
        "import wandb\n",
        "wandb.login(key=\"6ae5555f295dc1469adf2104179b22cabc458450\")"
      ],
      "metadata": {
        "colab": {
          "base_uri": "https://localhost:8080/"
        },
        "id": "-629U8tQZsBh",
        "outputId": "da4c9267-f624-4a41-8115-9cfb2bce2d3e"
      },
      "execution_count": 5,
      "outputs": [
        {
          "output_type": "stream",
          "name": "stderr",
          "text": [
            "\u001b[34m\u001b[1mwandb\u001b[0m: Using wandb-core as the SDK backend.  Please refer to https://wandb.me/wandb-core for more information.\n",
            "\u001b[34m\u001b[1mwandb\u001b[0m: \u001b[33mWARNING\u001b[0m If you're specifying your api key in code, ensure this code is not shared publicly.\n",
            "\u001b[34m\u001b[1mwandb\u001b[0m: \u001b[33mWARNING\u001b[0m Consider setting the WANDB_API_KEY environment variable, or running `wandb login` from the command line.\n",
            "\u001b[34m\u001b[1mwandb\u001b[0m: No netrc file found, creating one.\n",
            "\u001b[34m\u001b[1mwandb\u001b[0m: Appending key for api.wandb.ai to your netrc file: /root/.netrc\n",
            "\u001b[34m\u001b[1mwandb\u001b[0m: Currently logged in as: \u001b[33mcs24m035\u001b[0m (\u001b[33mcs24m035-indian-institute-of-technology-madras\u001b[0m) to \u001b[32mhttps://api.wandb.ai\u001b[0m. Use \u001b[1m`wandb login --relogin`\u001b[0m to force relogin\n"
          ]
        },
        {
          "output_type": "execute_result",
          "data": {
            "text/plain": [
              "True"
            ]
          },
          "metadata": {},
          "execution_count": 5
        }
      ]
    },
    {
      "cell_type": "code",
      "source": [
        "torch.manual_seed(2)  # Setting the random seed for PyTorch operations to ensure reproducibility\n",
        "random.seed(2)  # Setting the random seed for Python's built-in random module\n",
        "np.random.seed(2)  # Setting the random seed for NumPy operations"
      ],
      "metadata": {
        "id": "u2FwGsUfQcEa"
      },
      "execution_count": 6,
      "outputs": []
    },
    {
      "cell_type": "code",
      "source": [
        "# Function to determine and set the device for computation (CPU/GPU)\n",
        "def set_device():\n",
        "    device = \"cpu\"  # Defaulting to CPU\n",
        "    if torch.cuda.is_available():  # Checking if GPU is available\n",
        "        device = torch.device(\"cuda\")  # Setting device to GPU if available\n",
        "    else:\n",
        "        device = torch.device(\"cpu\")  # Otherwise, default to CPU\n",
        "    return device\n",
        "\n",
        "device = set_device()  # Calling the function to set the device\n",
        "print(\"Currently Using :: \", device)  # Printing the currently used device"
      ],
      "metadata": {
        "colab": {
          "base_uri": "https://localhost:8080/"
        },
        "id": "QT_DsKzvQcG3",
        "outputId": "2c40a857-c270-4589-8a2a-169f0abf5125"
      },
      "execution_count": 7,
      "outputs": [
        {
          "output_type": "stream",
          "name": "stdout",
          "text": [
            "Currently Using ::  cuda\n"
          ]
        }
      ]
    },
    {
      "cell_type": "code",
      "source": [
        "from google.colab import drive\n",
        "drive.mount('/content/drive')"
      ],
      "metadata": {
        "colab": {
          "base_uri": "https://localhost:8080/"
        },
        "id": "UCbCVyMwQcJF",
        "outputId": "ab6c313b-1cf9-4d4d-e0cc-93ca4a0ebf4b"
      },
      "execution_count": 8,
      "outputs": [
        {
          "output_type": "stream",
          "name": "stdout",
          "text": [
            "Mounted at /content/drive\n"
          ]
        }
      ]
    },
    {
      "cell_type": "code",
      "source": [
        "# Adjust the path accordingly\n",
        "data_path = '/content/drive/MyDrive/nature_12k/inaturalist_12K/train'  #path where train data to be split is stored\n",
        "output_path=\"train_val\" #path where new split data train+validation should be stored\n",
        "\n",
        "# This will randomly split data Set `seed` to ensure reproducibility and `group_strategy` to 'equal' for equal representation of classes in validation set\n",
        "splitfolders.ratio(input=data_path, output=output_path, seed=42, ratio=(0.8, 0.2) )"
      ],
      "metadata": {
        "colab": {
          "base_uri": "https://localhost:8080/"
        },
        "id": "vAy6ZcT5QcLq",
        "outputId": "8a0b8348-8812-48f1-98a3-f666e12c52c9"
      },
      "execution_count": 9,
      "outputs": [
        {
          "output_type": "stream",
          "name": "stderr",
          "text": [
            "Copying files: 9999 files [04:34, 36.38 files/s] \n"
          ]
        }
      ]
    },
    {
      "cell_type": "code",
      "source": [
        "import torch\n",
        "from torchvision import transforms\n",
        "from torch.utils.data import DataLoader\n",
        "from torchvision.datasets import ImageFolder\n",
        "\n",
        "def configure_loaders(augment_data):\n",
        "    # Configuration registry for model parameters\n",
        "    config = {\n",
        "        'input_size': 224,  # Standard size for pretrained networks\n",
        "        'scale_range': (0.08, 1.0),  # Default crop scaling from original paper\n",
        "        'norm_mean': [0.485, 0.456, 0.406],  # Imagenet statistics\n",
        "        'norm_std': [0.229, 0.224, 0.225],   # Channel-wise normalization\n",
        "        'loader_params': {  # Optimized data loading configuration\n",
        "            'batch_size': 64,       # Balanced memory/throughput tradeoff\n",
        "            'num_workers': 4,       # CPU cores for parallel loading\n",
        "            'pin_memory': True,     # Faster GPU transfers\n",
        "            'persistent_workers': True  # Maintain worker pools between epochs\n",
        "        }\n",
        "    }\n",
        "\n",
        "    # Base vision processing pipeline (essential tensor conversion)\n",
        "    def create_base_pipeline():\n",
        "        return [\n",
        "            # Randomized input sampling for scale invariance\n",
        "            transforms.RandomResizedCrop(\n",
        "                config['input_size'],\n",
        "                scale=config['scale_range']\n",
        "            ),\n",
        "            # Convert PIL Image to CxHxW torch.Tensor\n",
        "            transforms.ToTensor()\n",
        "        ]\n",
        "\n",
        "    # Quality assurance: Validate transform sequence integrity\n",
        "    def is_valid_transform(transform_list):\n",
        "        \"\"\"Ensure pipeline contains essential preprocessing steps\"\"\"\n",
        "        return len(transform_list) > 2  # Verify minimum processing requirements\n",
        "\n",
        "    # Feature engineering: Augmentation module injection point\n",
        "    augmentation_modules = [\n",
        "        # Horizontal mirroring for left-right invariance\n",
        "        transforms.RandomHorizontalFlip(p=0.5),\n",
        "        # Rotation tolerance for viewpoint variation\n",
        "        transforms.RandomRotation(degrees=30)\n",
        "    ] if str(augment_data).lower() == \"true\" else []\n",
        "\n",
        "    # Construct processing pipeline with dynamic extensions\n",
        "    processing_pipe = create_base_pipeline()\n",
        "    # Insert augmentation strategies at optimal position\n",
        "    processing_pipe[1:1] = augmentation_modules  # Preserve tensor conversion timing\n",
        "\n",
        "    # Add normalization after verifying pipeline validity\n",
        "    if is_valid_transform(processing_pipe):\n",
        "        # Standardization for stable gradient flow\n",
        "        processing_pipe.append(transforms.Normalize(\n",
        "            config['norm_mean'],\n",
        "            config['norm_std']\n",
        "        ))\n",
        "\n",
        "    # Test-time processing with evaluation optimizations\n",
        "    test_pipe = transforms.Compose([\n",
        "        # Resolution standardization\n",
        "        transforms.Resize(256),\n",
        "        # Center crop for consistent input sizing\n",
        "        transforms.CenterCrop(224),\n",
        "        # Type stability enforcement (PIL -> Tensor)\n",
        "        # transforms.Lambda(lambda x: x + 0),  # Prevent dtype inconsistencies\n",
        "        # Tensor conversion with range preservation\n",
        "        transforms.ToTensor(),\n",
        "        # Normalization matching training distribution\n",
        "        transforms.Normalize(config['norm_mean'], config['norm_std'])\n",
        "    ])\n",
        "\n",
        "    # Dataset routing configuration\n",
        "    data_paths = {\n",
        "        'train': '/content/train_val/train',       # Primary training samples\n",
        "        'validation': '/content/train_val/val',   # Hyperparameter tuning set\n",
        "        'test': '/content/drive/MyDrive/nature_12k/inaturalist_12K/val'  # Final evaluation\n",
        "    }\n",
        "\n",
        "    # Initialize datasets with version-controlled transforms\n",
        "    train_ds = ImageFolder(\n",
        "        data_paths['train'],\n",
        "        transforms.Compose(processing_pipe)\n",
        "    )\n",
        "    val_ds = ImageFolder(data_paths['validation'], test_pipe)\n",
        "    test_ds = ImageFolder(data_paths['test'], test_pipe)\n",
        "\n",
        "    # Data loader factory with performance tuning\n",
        "    def create_loader(dataset, shuffle=False):\n",
        "        \"\"\"Configure optimized data feeding pipeline\"\"\"\n",
        "        return DataLoader(\n",
        "            dataset,\n",
        "            shuffle=shuffle,\n",
        "            **config['loader_params']\n",
        "        )\n",
        "\n",
        "    return (\n",
        "        create_loader(train_ds, shuffle=True),  # Training with instance randomization\n",
        "        create_loader(val_ds),                   # Validation with deterministic order\n",
        "        create_loader(test_ds)                    # Final evaluation protocol\n",
        "    )\n",
        "\n",
        "    # Pipeline verification system (planned for CI/CD integration)\n",
        "    def _verify_transforms():\n",
        "        \"\"\"Sanity check for transform sequence compatibility\"\"\"\n",
        "        return \"Validation passed\" if len(processing_pipe) > 3 else \"Insufficient processing\""
      ],
      "metadata": {
        "id": "oyTVffM0QcRY"
      },
      "execution_count": 18,
      "outputs": []
    },
    {
      "cell_type": "code",
      "source": [
        "class CNN(pl.LightningModule):\n",
        "    def __init__(self, num_filters, filter_sizes, activations,dense_activation, num_neurons_dense , dropout_rate,batch_norm,in_channels=3):\n",
        "        super(CNN, self).__init__()\n",
        "        self.num_filters = num_filters\n",
        "        self.filter_sizes = filter_sizes\n",
        "        self.activations = activations\n",
        "        self.num_neurons_dense = num_neurons_dense\n",
        "        self.dropout_rate = dropout_rate\n",
        "        self.dense_activation = dense_activation\n",
        "        self.batch_norm=batch_norm\n",
        "\n",
        "        # Convolutional layers\n",
        "        self.conv_layers = nn.ModuleList()\n",
        "        prev_filters = in_channels\n",
        "        for i in range(len(num_filters)):\n",
        "            self.conv_layers.append(nn.Conv2d(prev_filters, out_channels=num_filters[i], kernel_size=filter_sizes[i]))\n",
        "            if(batch_norm==\"True\"):\n",
        "              self.conv_layers.append(nn.BatchNorm2d(num_filters[i], eps=0.001))\n",
        "            self.conv_layers.append(self.activations)\n",
        "            self.conv_layers.append(nn.MaxPool2d(kernel_size=2, stride=2))\n",
        "            prev_filters = num_filters[i]\n",
        "\n",
        "        self.linear_in_features=getInFeaturs(filter_sizes)\n",
        "        # print(num_filters[] * self.linear_in_features * self.linear_in_features)\n",
        "\n",
        "        self.dense = nn.Linear(in_features=num_filters[-1] * self.linear_in_features * self.linear_in_features, out_features=num_neurons_dense)\n",
        "        self.bn=nn.BatchNorm2d(num_neurons_dense, eps=0.001)\n",
        "        self.dropout = nn.Dropout(dropout_rate)\n",
        "        self.output = nn.Linear(in_features=num_neurons_dense, out_features=10)\n",
        "        # self.accuracy = BinaryAccuracy()\n",
        "\n",
        "    def forward(self, x):\n",
        "        for i in range(len(self.conv_layers)):\n",
        "            x = self.conv_layers[i](x)\n",
        "\n",
        "        #dense layers\n",
        "        x = x.view(x.size(0), -1)\n",
        "        x = self.dropout(x)\n",
        "        x=self.dense(x)\n",
        "        # if(self.batch_norm==True):\n",
        "        #   x=self.bn(x)\n",
        "        x = self.dense_activation(x)\n",
        "        x = self.output(x)\n",
        "        return x\n",
        "\n"
      ],
      "metadata": {
        "id": "iEFYZtDCUXhv"
      },
      "execution_count": 19,
      "outputs": []
    },
    {
      "cell_type": "code",
      "source": [
        "def getInFeaturs(filter_sizes):\n",
        "  #layer1 output\n",
        "  in_features=224-filter_sizes[0]+1\n",
        "  in_features=(in_features-2)//2 + 1\n",
        "  for i in range(1, len(filter_sizes)):\n",
        "    in_features=in_features-filter_sizes[i]+1\n",
        "    in_features=(in_features-2)//2 + 1\n",
        "  return in_features\n"
      ],
      "metadata": {
        "id": "aWUsj3PPUXkP"
      },
      "execution_count": 20,
      "outputs": []
    },
    {
      "cell_type": "code",
      "source": [
        "def set_num_of_filters(num_of_filters,filter_organisation,filter_sizes):\n",
        "  #set number of filter for each layer considering the filter organization\n",
        "\n",
        "  num_filters=[num_of_filters]\n",
        "\n",
        "  if(filter_organisation==\"double\"): # doubling in each subsequent layer\n",
        "    for i in range(len(filter_sizes)-1):\n",
        "      num_filters.append(num_filters[i] * 2)\n",
        "  elif(filter_organisation==\"same\"): #same number of filters in all layers\n",
        "    for i in range(len(filter_sizes)-1):\n",
        "      num_filters.append(num_filters[i])\n",
        "  elif(filter_organisation==\"half\"): # halving in eachsubsequent layer\n",
        "    for i in range(len(filter_sizes)-1):\n",
        "      num_fil=num_filters[i]//2\n",
        "      if(num_fil<=0):\n",
        "        num_fil=1\n",
        "      num_filters.append(num_fil)\n",
        "\n",
        "  return num_filters"
      ],
      "metadata": {
        "id": "DtRoxXn3UXnn"
      },
      "execution_count": 21,
      "outputs": []
    },
    {
      "cell_type": "code",
      "source": [
        "def return_activation_fun(activation):\n",
        "  if activation == \"ReLU\":\n",
        "      return  nn.ReLU()\n",
        "  if activation == \"GELU\":\n",
        "      return  nn.GELU()\n",
        "  if activation == \"SiLU\":\n",
        "      return  nn.SiLU()\n",
        "  if activation == \"Mish\":\n",
        "      return  nn.Mish()\n",
        "  if activation == \"LeakyReLU\":\n",
        "      return  nn.LeakyReLU()\n"
      ],
      "metadata": {
        "id": "zqzVdP-4UekN"
      },
      "execution_count": 22,
      "outputs": []
    },
    {
      "cell_type": "code",
      "source": [
        "#add any config to check\n",
        "filter_sizes=[] #filter k*k dimention for 5 layers\n",
        "for i in range(5):\n",
        "  filter_sizes.append(5)\n",
        "print(filter_sizes)\n",
        "data_augmentation=\"True\" # data augmentation flag\n",
        "\n",
        "activation_for_cov=\"GELU\"\n",
        "conv_activations=return_activation_fun(activation_for_cov) # activation function for each of the 5 layers\n",
        "\n",
        "activation_for_dense=\"GELU\"\n",
        "dense_activation=return_activation_fun(activation_for_dense) # activation function for the dense layer\n",
        "\n",
        "dropout_rate=0\n",
        "batch_norm=\"True\"\n",
        "num_neurons_dense=512\n",
        "\n",
        "# set num_filters in each layer\n",
        "num_of_filters=32 #num of filters in 1st layer\n",
        "filter_organisation=\"double\" # double , same , half\n",
        "num_filters=set_num_of_filters(num_of_filters,filter_organisation,filter_sizes)\n",
        "print(num_filters)\n",
        "\n",
        "epochs=20\n",
        "\n",
        "model = CNN(num_filters,\n",
        "            filter_sizes,\n",
        "            conv_activations,\n",
        "            dense_activation,\n",
        "            num_neurons_dense,\n",
        "            dropout_rate,\n",
        "            batch_norm\n",
        "            ).to(device)\n",
        "print(model)\n",
        "train_loader , val_loader , test_loader = configure_loaders(data_augmentation)"
      ],
      "metadata": {
        "colab": {
          "base_uri": "https://localhost:8080/"
        },
        "id": "Pc4bWqawUemb",
        "outputId": "1871208e-be38-410a-f536-7097ae21bf76"
      },
      "execution_count": 23,
      "outputs": [
        {
          "output_type": "stream",
          "name": "stdout",
          "text": [
            "[5, 5, 5, 5, 5]\n",
            "[32, 64, 128, 256, 512]\n",
            "CNN(\n",
            "  (activations): GELU(approximate='none')\n",
            "  (dense_activation): GELU(approximate='none')\n",
            "  (conv_layers): ModuleList(\n",
            "    (0): Conv2d(3, 32, kernel_size=(5, 5), stride=(1, 1))\n",
            "    (1): BatchNorm2d(32, eps=0.001, momentum=0.1, affine=True, track_running_stats=True)\n",
            "    (2): GELU(approximate='none')\n",
            "    (3): MaxPool2d(kernel_size=2, stride=2, padding=0, dilation=1, ceil_mode=False)\n",
            "    (4): Conv2d(32, 64, kernel_size=(5, 5), stride=(1, 1))\n",
            "    (5): BatchNorm2d(64, eps=0.001, momentum=0.1, affine=True, track_running_stats=True)\n",
            "    (6): GELU(approximate='none')\n",
            "    (7): MaxPool2d(kernel_size=2, stride=2, padding=0, dilation=1, ceil_mode=False)\n",
            "    (8): Conv2d(64, 128, kernel_size=(5, 5), stride=(1, 1))\n",
            "    (9): BatchNorm2d(128, eps=0.001, momentum=0.1, affine=True, track_running_stats=True)\n",
            "    (10): GELU(approximate='none')\n",
            "    (11): MaxPool2d(kernel_size=2, stride=2, padding=0, dilation=1, ceil_mode=False)\n",
            "    (12): Conv2d(128, 256, kernel_size=(5, 5), stride=(1, 1))\n",
            "    (13): BatchNorm2d(256, eps=0.001, momentum=0.1, affine=True, track_running_stats=True)\n",
            "    (14): GELU(approximate='none')\n",
            "    (15): MaxPool2d(kernel_size=2, stride=2, padding=0, dilation=1, ceil_mode=False)\n",
            "    (16): Conv2d(256, 512, kernel_size=(5, 5), stride=(1, 1))\n",
            "    (17): BatchNorm2d(512, eps=0.001, momentum=0.1, affine=True, track_running_stats=True)\n",
            "    (18): GELU(approximate='none')\n",
            "    (19): MaxPool2d(kernel_size=2, stride=2, padding=0, dilation=1, ceil_mode=False)\n",
            "  )\n",
            "  (dense): Linear(in_features=4608, out_features=512, bias=True)\n",
            "  (bn): BatchNorm2d(512, eps=0.001, momentum=0.1, affine=True, track_running_stats=True)\n",
            "  (dropout): Dropout(p=0, inplace=False)\n",
            "  (output): Linear(in_features=512, out_features=10, bias=True)\n",
            ")\n"
          ]
        }
      ]
    },
    {
      "cell_type": "code",
      "source": [
        "def train(epochs,model,train_loader,val_loader,print_on):\n",
        "  #function to train our model\n",
        "  criterion = nn.CrossEntropyLoss()\n",
        "  optimizer = torch.optim.Adam(model.parameters(), lr=0.0001, betas=(0.9, 0.999), eps=1e-08)\n",
        "\n",
        "  n_total_steps_train = len(train_loader)\n",
        "  n_total_steps_val=len(val_loader)\n",
        "  acc=0\n",
        "  for epoch in range(epochs):\n",
        "    model.train() #trainnig phase\n",
        "    n_correct_train = 0\n",
        "    n_samples_train = 0\n",
        "    loss_train=0.0\n",
        "    for i, (images_train, labels_train) in enumerate(train_loader):\n",
        "\n",
        "      images_train = images_train.to(device)\n",
        "      labels_train = labels_train.to(device)\n",
        "\n",
        "      # Forward pass\n",
        "      outputs = model(images_train)\n",
        "      loss = criterion(outputs, labels_train)\n",
        "\n",
        "      # Backward and optimize\n",
        "      optimizer.zero_grad()\n",
        "      loss.backward()\n",
        "      optimizer.step()\n",
        "\n",
        "      loss_train+=loss.item()\n",
        "\n",
        "      _, predicted_train = torch.max(outputs, 1)\n",
        "      n_samples_train += labels_train.size(0)\n",
        "      n_correct_train += (predicted_train == labels_train).sum().item()\n",
        "\n",
        "      if (i+1) % 25 == 0:\n",
        "        print (f'Epoch [{epoch+1}/{epochs}], Step [{i+1}/{n_total_steps_train}]')\n",
        "    print('Finished Training')\n",
        "    train_acc = 100.0 * n_correct_train / n_samples_train\n",
        "    loss_train=loss_train/n_total_steps_train\n",
        "    print (f'Epoch {epoch+1}, Training_Accuracy: {train_acc} , Training_Loss: {loss_train}')\n",
        "\n",
        "\n",
        "    model.eval() #evaluation phase\n",
        "    with torch.no_grad():\n",
        "      n_correct = 0\n",
        "      n_samples = 0\n",
        "      loss_val=0.0\n",
        "\n",
        "      for images, labels in val_loader:\n",
        "          images = images.to(device)\n",
        "          labels = labels.to(device)\n",
        "          outputs = model(images)\n",
        "          loss = criterion(outputs, labels)\n",
        "\n",
        "          _, predicted = torch.max(outputs, 1)\n",
        "          n_samples += labels.size(0)\n",
        "          n_correct += (predicted == labels).sum().item() #counts number of correct labels\n",
        "\n",
        "          loss_val+=loss.item()\n",
        "\n",
        "      acc = 100.0 * n_correct / n_samples\n",
        "      loss_val=loss_val/n_total_steps_val\n",
        "      print (f'Epoch {epoch+1}, Validation_Accuracy: {acc} , Validation_Loss: {loss_val}')\n",
        "\n",
        "    if(print_on==\"wandb\"):\n",
        "      wandb.log({'Epoch': epoch+1,'Training_Loss' : loss_train,'Training_Accuracy' : train_acc,'Validation_Loss' : loss_val,'Validation_Accuracy':acc})\n",
        "\n",
        "  return acc\n"
      ],
      "metadata": {
        "id": "8R8W8oEsUeo9"
      },
      "execution_count": 24,
      "outputs": []
    },
    {
      "cell_type": "code",
      "source": [
        "epochs=3\n",
        "print_on=\"print\"\n",
        "train(3,model,train_loader,val_loader,print_on)"
      ],
      "metadata": {
        "colab": {
          "base_uri": "https://localhost:8080/"
        },
        "id": "BtDQPzXoUesU",
        "outputId": "4de243ea-299d-4752-fade-a94fdef3dfe7"
      },
      "execution_count": null,
      "outputs": [
        {
          "output_type": "stream",
          "name": "stdout",
          "text": [
            "Epoch [1/3], Step [25/125]\n",
            "Epoch [1/3], Step [50/125]\n",
            "Epoch [1/3], Step [75/125]\n",
            "Epoch [1/3], Step [100/125]\n",
            "Epoch [1/3], Step [125/125]\n",
            "Finished Training\n",
            "Epoch 1, Training_Accuracy: 22.415301912739093 , Training_Loss: 2.128661873817444\n",
            "Epoch 1, Validation_Accuracy: 29.3 , Validation_Loss: 2.021551191806793\n",
            "Epoch [2/3], Step [25/125]\n",
            "Epoch [2/3], Step [50/125]\n",
            "Epoch [2/3], Step [75/125]\n",
            "Epoch [2/3], Step [100/125]\n",
            "Epoch [2/3], Step [125/125]\n",
            "Finished Training\n",
            "Epoch 2, Training_Accuracy: 27.478434804350545 , Training_Loss: 2.03357061290741\n",
            "Epoch 2, Validation_Accuracy: 28.8 , Validation_Loss: 2.014002475887537\n",
            "Epoch [3/3], Step [25/125]\n",
            "Epoch [3/3], Step [50/125]\n",
            "Epoch [3/3], Step [75/125]\n",
            "Epoch [3/3], Step [100/125]\n",
            "Epoch [3/3], Step [125/125]\n",
            "Finished Training\n",
            "Epoch 3, Training_Accuracy: 28.891111388923616 , Training_Loss: 1.9898448677062988\n"
          ]
        }
      ]
    },
    {
      "cell_type": "code",
      "source": [
        "  sweep_config = {\n",
        "    'name' : 'part_A_question2',\n",
        "    'method': 'bayes',\n",
        "    'metric': {'goal': 'maximize', 'name': 'Val_Accuracy'},\n",
        "    'parameters': {'num_filters': {'values': [16, 32]},\n",
        "                   'filter_organisation': {'values': ['same','double','half']},\n",
        "                    'dropout_rate': {'values': [0.2, 0.5 , 0]},\n",
        "                    'filter_size': {'values': [3,5]},\n",
        "                    'num_neurons_dense': {'values': [128,512]},\n",
        "                    'activation': {'values': ['ReLU', 'GELU' , 'LeakyReLU' ]},\n",
        "                    'data_augmentation': {'values': ['True', 'False']},\n",
        "                    'batch_norm': {'values': ['True', 'False']},\n",
        "                    'epochs': {'values': [10 , 20]},\n",
        "\n",
        "                }}"
      ],
      "metadata": {
        "id": "1f20xGEoUfD7"
      },
      "execution_count": null,
      "outputs": []
    },
    {
      "cell_type": "code",
      "source": [
        "def train_sweep():\n",
        "    init_sweep =  wandb.init(project=\"CS6910_Assignment2\", name=\"part_A_question2\")\n",
        "    sweep_params = init_sweep.config\n",
        "\n",
        "    wandb.run.name = \"_nf_\" + str(sweep_params.num_filters) + \"_fo_\" + sweep_params.filter_organisation + \"_dr_\" + str(sweep_params.dropout_rate) + \"_neu_\" + str(sweep_params.num_neurons_dense) + \"_act_\" + sweep_params.activation +\"_aug_\" + sweep_params.data_augmentation +\"_norm_\" + sweep_params.batch_norm + \"_ep_\" + str(sweep_params.epochs)\n",
        "\n",
        "\n",
        "    filter_sizes=[] #filter k*k dimention for 5 layers\n",
        "    for i in range(5):\n",
        "      filter_sizes.append(sweep_params.filter_size)\n",
        "    print(filter_sizes)\n",
        "    data_augmentation=sweep_params.data_augmentation # data augmentation flag\n",
        "\n",
        "    activation_for_cov=sweep_params.activation\n",
        "    conv_activations=return_activation_fun(activation_for_cov) # activation function for each of the 5 layers\n",
        "\n",
        "    activation_for_dense=sweep_params.activation\n",
        "    dense_activation=return_activation_fun(activation_for_dense) # activation function for the dense layer\n",
        "    dropout_rate=sweep_params.dropout_rate\n",
        "    batch_norm=sweep_params.batch_norm\n",
        "    num_neurons_dense=sweep_params.num_neurons_dense\n",
        "\n",
        "    # set num_filters in each layer\n",
        "    num_of_filters=sweep_params.num_filters #num of filters in 1st layer\n",
        "    filter_organisation=sweep_params.filter_organisation # double , same , half\n",
        "    num_filters=set_num_of_filters(num_of_filters,filter_organisation,filter_sizes)\n",
        "    print(num_filters)\n",
        "\n",
        "    epochs=sweep_params.epochs\n",
        "\n",
        "    model = CNN(num_filters,\n",
        "                filter_sizes,\n",
        "                conv_activations,\n",
        "                dense_activation,\n",
        "                num_neurons_dense,\n",
        "                dropout_rate,\n",
        "                batch_norm\n",
        "                ).to(device)\n",
        "    print(model)\n",
        "    train_loader , val_loader , test_loader = dataset_loaders(data_augmentation)\n",
        "\n",
        "    print_on=\"wandb\"\n",
        "\n",
        "    val_accuracy=train(epochs,model,train_loader,val_loader,print_on)\n",
        "    wandb.log({\"Val_Accuracy\": val_accuracy})\n"
      ],
      "metadata": {
        "id": "9GUG87B3UfGZ"
      },
      "execution_count": null,
      "outputs": []
    },
    {
      "cell_type": "code",
      "source": [
        "sweep_id = wandb.sweep(sweep_config, project='CS6910_Assignment2')\n",
        "wandb.agent(sweep_id, train_sweep,count=50)\n",
        "wandb.finish()"
      ],
      "metadata": {
        "colab": {
          "base_uri": "https://localhost:8080/",
          "height": 1000
        },
        "id": "T1bpBRPBUfKO",
        "outputId": "8af286ba-02a4-43a9-f8f6-a5832d75563f"
      },
      "execution_count": null,
      "outputs": [
        {
          "output_type": "stream",
          "name": "stdout",
          "text": [
            "Create sweep with ID: fjduncsb\n",
            "Sweep URL: https://wandb.ai/cs24m035-indian-institute-of-technology-madras/CS6910_Assignment2/sweeps/fjduncsb\n"
          ]
        },
        {
          "output_type": "stream",
          "name": "stderr",
          "text": [
            "\u001b[34m\u001b[1mwandb\u001b[0m: Agent Starting Run: 2oa75y1g with config:\n",
            "\u001b[34m\u001b[1mwandb\u001b[0m: \tactivation: ReLU\n",
            "\u001b[34m\u001b[1mwandb\u001b[0m: \tbatch_norm: False\n",
            "\u001b[34m\u001b[1mwandb\u001b[0m: \tdata_augmentation: False\n",
            "\u001b[34m\u001b[1mwandb\u001b[0m: \tdropout_rate: 0\n",
            "\u001b[34m\u001b[1mwandb\u001b[0m: \tepochs: 10\n",
            "\u001b[34m\u001b[1mwandb\u001b[0m: \tfilter_organisation: double\n",
            "\u001b[34m\u001b[1mwandb\u001b[0m: \tfilter_size: 3\n",
            "\u001b[34m\u001b[1mwandb\u001b[0m: \tnum_filters: 16\n",
            "\u001b[34m\u001b[1mwandb\u001b[0m: \tnum_neurons_dense: 512\n"
          ]
        },
        {
          "output_type": "display_data",
          "data": {
            "text/plain": [
              "<IPython.core.display.HTML object>"
            ],
            "text/html": [
              "Ignoring project 'CS6910_Assignment2' when running a sweep."
            ]
          },
          "metadata": {}
        },
        {
          "output_type": "display_data",
          "data": {
            "text/plain": [
              "<IPython.core.display.HTML object>"
            ],
            "text/html": [
              "Tracking run with wandb version 0.19.9"
            ]
          },
          "metadata": {}
        },
        {
          "output_type": "display_data",
          "data": {
            "text/plain": [
              "<IPython.core.display.HTML object>"
            ],
            "text/html": [
              "Run data is saved locally in <code>/content/wandb/run-20250410_155319-2oa75y1g</code>"
            ]
          },
          "metadata": {}
        },
        {
          "output_type": "display_data",
          "data": {
            "text/plain": [
              "<IPython.core.display.HTML object>"
            ],
            "text/html": [
              "Syncing run <strong><a href='https://wandb.ai/cs24m035-indian-institute-of-technology-madras/CS6910_Assignment2/runs/2oa75y1g' target=\"_blank\">part_A_question2</a></strong> to <a href='https://wandb.ai/cs24m035-indian-institute-of-technology-madras/CS6910_Assignment2' target=\"_blank\">Weights & Biases</a> (<a href='https://wandb.me/developer-guide' target=\"_blank\">docs</a>)<br>Sweep page: <a href='https://wandb.ai/cs24m035-indian-institute-of-technology-madras/CS6910_Assignment2/sweeps/fjduncsb' target=\"_blank\">https://wandb.ai/cs24m035-indian-institute-of-technology-madras/CS6910_Assignment2/sweeps/fjduncsb</a>"
            ]
          },
          "metadata": {}
        },
        {
          "output_type": "display_data",
          "data": {
            "text/plain": [
              "<IPython.core.display.HTML object>"
            ],
            "text/html": [
              " View project at <a href='https://wandb.ai/cs24m035-indian-institute-of-technology-madras/CS6910_Assignment2' target=\"_blank\">https://wandb.ai/cs24m035-indian-institute-of-technology-madras/CS6910_Assignment2</a>"
            ]
          },
          "metadata": {}
        },
        {
          "output_type": "display_data",
          "data": {
            "text/plain": [
              "<IPython.core.display.HTML object>"
            ],
            "text/html": [
              " View sweep at <a href='https://wandb.ai/cs24m035-indian-institute-of-technology-madras/CS6910_Assignment2/sweeps/fjduncsb' target=\"_blank\">https://wandb.ai/cs24m035-indian-institute-of-technology-madras/CS6910_Assignment2/sweeps/fjduncsb</a>"
            ]
          },
          "metadata": {}
        },
        {
          "output_type": "display_data",
          "data": {
            "text/plain": [
              "<IPython.core.display.HTML object>"
            ],
            "text/html": [
              " View run at <a href='https://wandb.ai/cs24m035-indian-institute-of-technology-madras/CS6910_Assignment2/runs/2oa75y1g' target=\"_blank\">https://wandb.ai/cs24m035-indian-institute-of-technology-madras/CS6910_Assignment2/runs/2oa75y1g</a>"
            ]
          },
          "metadata": {}
        },
        {
          "output_type": "stream",
          "name": "stdout",
          "text": [
            "[3, 3, 3, 3, 3]\n",
            "[16, 32, 64, 128, 256]\n",
            "CNN(\n",
            "  (activations): ReLU()\n",
            "  (dense_activation): ReLU()\n",
            "  (conv_layers): ModuleList(\n",
            "    (0): Conv2d(3, 16, kernel_size=(3, 3), stride=(1, 1))\n",
            "    (1): ReLU()\n",
            "    (2): MaxPool2d(kernel_size=2, stride=2, padding=0, dilation=1, ceil_mode=False)\n",
            "    (3): Conv2d(16, 32, kernel_size=(3, 3), stride=(1, 1))\n",
            "    (4): ReLU()\n",
            "    (5): MaxPool2d(kernel_size=2, stride=2, padding=0, dilation=1, ceil_mode=False)\n",
            "    (6): Conv2d(32, 64, kernel_size=(3, 3), stride=(1, 1))\n",
            "    (7): ReLU()\n",
            "    (8): MaxPool2d(kernel_size=2, stride=2, padding=0, dilation=1, ceil_mode=False)\n",
            "    (9): Conv2d(64, 128, kernel_size=(3, 3), stride=(1, 1))\n",
            "    (10): ReLU()\n",
            "    (11): MaxPool2d(kernel_size=2, stride=2, padding=0, dilation=1, ceil_mode=False)\n",
            "    (12): Conv2d(128, 256, kernel_size=(3, 3), stride=(1, 1))\n",
            "    (13): ReLU()\n",
            "    (14): MaxPool2d(kernel_size=2, stride=2, padding=0, dilation=1, ceil_mode=False)\n",
            "  )\n",
            "  (dense): Linear(in_features=6400, out_features=512, bias=True)\n",
            "  (bn): BatchNorm2d(512, eps=0.001, momentum=0.1, affine=True, track_running_stats=True)\n",
            "  (dropout): Dropout(p=0, inplace=False)\n",
            "  (output): Linear(in_features=512, out_features=10, bias=True)\n",
            ")\n"
          ]
        },
        {
          "output_type": "stream",
          "name": "stderr",
          "text": [
            "/usr/local/lib/python3.11/dist-packages/torch/utils/data/dataloader.py:624: UserWarning: This DataLoader will create 4 worker processes in total. Our suggested max number of worker in current system is 2, which is smaller than what this DataLoader is going to create. Please be aware that excessive worker creation might get DataLoader running slow or even freeze, lower the worker number to avoid potential slowness/freeze if necessary.\n",
            "  warnings.warn(\n"
          ]
        },
        {
          "output_type": "stream",
          "name": "stdout",
          "text": [
            "Epoch [1/10], Step [25/125]\n",
            "Epoch [1/10], Step [50/125]\n",
            "Epoch [1/10], Step [75/125]\n",
            "Epoch [1/10], Step [100/125]\n",
            "Epoch [1/10], Step [125/125]\n",
            "Finished Training\n",
            "Epoch 1, Training_Accuracy: 14.451806475809477 , Training_Loss: 2.262642890930176\n",
            "Epoch 1, Validation_Accuracy: 19.2 , Validation_Loss: 2.1701004467904568\n",
            "Epoch [2/10], Step [25/125]\n",
            "Epoch [2/10], Step [50/125]\n",
            "Epoch [2/10], Step [75/125]\n",
            "Epoch [2/10], Step [100/125]\n",
            "Epoch [2/10], Step [125/125]\n",
            "Finished Training\n",
            "Epoch 2, Training_Accuracy: 21.065133141642704 , Training_Loss: 2.1575339708328247\n",
            "Epoch 2, Validation_Accuracy: 22.25 , Validation_Loss: 2.130561485886574\n",
            "Epoch [3/10], Step [25/125]\n",
            "Epoch [3/10], Step [50/125]\n",
            "Epoch [3/10], Step [75/125]\n",
            "Epoch [3/10], Step [100/125]\n",
            "Epoch [3/10], Step [125/125]\n",
            "Finished Training\n",
            "Epoch 3, Training_Accuracy: 24.12801600200025 , Training_Loss: 2.09853351688385\n",
            "Epoch 3, Validation_Accuracy: 26.25 , Validation_Loss: 2.061238080263138\n",
            "Epoch [4/10], Step [25/125]\n",
            "Epoch [4/10], Step [50/125]\n",
            "Epoch [4/10], Step [75/125]\n",
            "Epoch [4/10], Step [100/125]\n",
            "Epoch [4/10], Step [125/125]\n",
            "Finished Training\n",
            "Epoch 4, Training_Accuracy: 25.528191023877984 , Training_Loss: 2.0713429107666017\n",
            "Epoch 4, Validation_Accuracy: 25.0 , Validation_Loss: 2.0496176332235336\n",
            "Epoch [5/10], Step [25/125]\n",
            "Epoch [5/10], Step [50/125]\n",
            "Epoch [5/10], Step [75/125]\n",
            "Epoch [5/10], Step [100/125]\n",
            "Epoch [5/10], Step [125/125]\n",
            "Finished Training\n",
            "Epoch 5, Training_Accuracy: 26.915864483060382 , Training_Loss: 2.047509564399719\n",
            "Epoch 5, Validation_Accuracy: 28.7 , Validation_Loss: 1.9959163069725037\n",
            "Epoch [6/10], Step [25/125]\n",
            "Epoch [6/10], Step [50/125]\n",
            "Epoch [6/10], Step [75/125]\n",
            "Epoch [6/10], Step [100/125]\n",
            "Epoch [6/10], Step [125/125]\n",
            "Finished Training\n",
            "Epoch 6, Training_Accuracy: 27.903487935992 , Training_Loss: 2.0218831243515014\n",
            "Epoch 6, Validation_Accuracy: 30.3 , Validation_Loss: 1.9785555750131607\n",
            "Epoch [7/10], Step [25/125]\n",
            "Epoch [7/10], Step [50/125]\n",
            "Epoch [7/10], Step [75/125]\n",
            "Epoch [7/10], Step [100/125]\n",
            "Epoch [7/10], Step [125/125]\n",
            "Finished Training\n",
            "Epoch 7, Training_Accuracy: 28.891111388923616 , Training_Loss: 2.007271209716797\n",
            "Epoch 7, Validation_Accuracy: 30.8 , Validation_Loss: 1.9432188458740711\n",
            "Epoch [8/10], Step [25/125]\n",
            "Epoch [8/10], Step [50/125]\n",
            "Epoch [8/10], Step [75/125]\n",
            "Epoch [8/10], Step [100/125]\n",
            "Epoch [8/10], Step [125/125]\n",
            "Finished Training\n",
            "Epoch 8, Training_Accuracy: 29.066133266658333 , Training_Loss: 1.987028738975525\n",
            "Epoch 8, Validation_Accuracy: 31.0 , Validation_Loss: 1.9424257688224316\n",
            "Epoch [9/10], Step [25/125]\n",
            "Epoch [9/10], Step [50/125]\n",
            "Epoch [9/10], Step [75/125]\n",
            "Epoch [9/10], Step [100/125]\n",
            "Epoch [9/10], Step [125/125]\n",
            "Finished Training\n",
            "Epoch 9, Training_Accuracy: 29.791223902987873 , Training_Loss: 1.9755365047454834\n",
            "Epoch 9, Validation_Accuracy: 31.65 , Validation_Loss: 1.9248420149087906\n",
            "Epoch [10/10], Step [25/125]\n",
            "Epoch [10/10], Step [50/125]\n",
            "Epoch [10/10], Step [75/125]\n",
            "Epoch [10/10], Step [100/125]\n",
            "Epoch [10/10], Step [125/125]\n",
            "Finished Training\n",
            "Epoch 10, Training_Accuracy: 30.466308288536066 , Training_Loss: 1.9583873195648194\n",
            "Epoch 10, Validation_Accuracy: 34.15 , Validation_Loss: 1.8947675861418247\n"
          ]
        },
        {
          "output_type": "display_data",
          "data": {
            "text/plain": [
              "<IPython.core.display.HTML object>"
            ],
            "text/html": []
          },
          "metadata": {}
        },
        {
          "output_type": "display_data",
          "data": {
            "text/plain": [
              "<IPython.core.display.HTML object>"
            ],
            "text/html": [
              "<br>    <style><br>        .wandb-row {<br>            display: flex;<br>            flex-direction: row;<br>            flex-wrap: wrap;<br>            justify-content: flex-start;<br>            width: 100%;<br>        }<br>        .wandb-col {<br>            display: flex;<br>            flex-direction: column;<br>            flex-basis: 100%;<br>            flex: 1;<br>            padding: 10px;<br>        }<br>    </style><br><div class=\"wandb-row\"><div class=\"wandb-col\"><h3>Run history:</h3><br/><table class=\"wandb\"><tr><td>Epoch</td><td>▁▂▃▃▄▅▆▆▇█</td></tr><tr><td>Training_Accuracy</td><td>▁▄▅▆▆▇▇▇██</td></tr><tr><td>Training_Loss</td><td>█▆▄▄▃▂▂▂▁▁</td></tr><tr><td>Val_Accuracy</td><td>▁</td></tr><tr><td>Validation_Accuracy</td><td>▁▂▄▄▅▆▆▇▇█</td></tr><tr><td>Validation_Loss</td><td>█▇▅▅▄▃▂▂▂▁</td></tr></table><br/></div><div class=\"wandb-col\"><h3>Run summary:</h3><br/><table class=\"wandb\"><tr><td>Epoch</td><td>10</td></tr><tr><td>Training_Accuracy</td><td>30.46631</td></tr><tr><td>Training_Loss</td><td>1.95839</td></tr><tr><td>Val_Accuracy</td><td>34.15</td></tr><tr><td>Validation_Accuracy</td><td>34.15</td></tr><tr><td>Validation_Loss</td><td>1.89477</td></tr></table><br/></div></div>"
            ]
          },
          "metadata": {}
        },
        {
          "output_type": "display_data",
          "data": {
            "text/plain": [
              "<IPython.core.display.HTML object>"
            ],
            "text/html": [
              " View run <strong style=\"color:#cdcd00\">_nf_16_fo_double_dr_0_neu_512_act_ReLU_aug_False_norm_False_ep_10</strong> at: <a href='https://wandb.ai/cs24m035-indian-institute-of-technology-madras/CS6910_Assignment2/runs/2oa75y1g' target=\"_blank\">https://wandb.ai/cs24m035-indian-institute-of-technology-madras/CS6910_Assignment2/runs/2oa75y1g</a><br> View project at: <a href='https://wandb.ai/cs24m035-indian-institute-of-technology-madras/CS6910_Assignment2' target=\"_blank\">https://wandb.ai/cs24m035-indian-institute-of-technology-madras/CS6910_Assignment2</a><br>Synced 5 W&B file(s), 0 media file(s), 0 artifact file(s) and 0 other file(s)"
            ]
          },
          "metadata": {}
        },
        {
          "output_type": "display_data",
          "data": {
            "text/plain": [
              "<IPython.core.display.HTML object>"
            ],
            "text/html": [
              "Find logs at: <code>./wandb/run-20250410_155319-2oa75y1g/logs</code>"
            ]
          },
          "metadata": {}
        },
        {
          "output_type": "stream",
          "name": "stderr",
          "text": [
            "\u001b[34m\u001b[1mwandb\u001b[0m: Agent Starting Run: ohwzdl5u with config:\n",
            "\u001b[34m\u001b[1mwandb\u001b[0m: \tactivation: GELU\n",
            "\u001b[34m\u001b[1mwandb\u001b[0m: \tbatch_norm: True\n",
            "\u001b[34m\u001b[1mwandb\u001b[0m: \tdata_augmentation: False\n",
            "\u001b[34m\u001b[1mwandb\u001b[0m: \tdropout_rate: 0\n",
            "\u001b[34m\u001b[1mwandb\u001b[0m: \tepochs: 10\n",
            "\u001b[34m\u001b[1mwandb\u001b[0m: \tfilter_organisation: same\n",
            "\u001b[34m\u001b[1mwandb\u001b[0m: \tfilter_size: 3\n",
            "\u001b[34m\u001b[1mwandb\u001b[0m: \tnum_filters: 32\n",
            "\u001b[34m\u001b[1mwandb\u001b[0m: \tnum_neurons_dense: 512\n"
          ]
        },
        {
          "output_type": "display_data",
          "data": {
            "text/plain": [
              "<IPython.core.display.HTML object>"
            ],
            "text/html": [
              "Ignoring project 'CS6910_Assignment2' when running a sweep."
            ]
          },
          "metadata": {}
        },
        {
          "output_type": "display_data",
          "data": {
            "text/plain": [
              "<IPython.core.display.HTML object>"
            ],
            "text/html": [
              "Tracking run with wandb version 0.19.9"
            ]
          },
          "metadata": {}
        },
        {
          "output_type": "display_data",
          "data": {
            "text/plain": [
              "<IPython.core.display.HTML object>"
            ],
            "text/html": [
              "Run data is saved locally in <code>/content/wandb/run-20250410_161001-ohwzdl5u</code>"
            ]
          },
          "metadata": {}
        },
        {
          "output_type": "display_data",
          "data": {
            "text/plain": [
              "<IPython.core.display.HTML object>"
            ],
            "text/html": [
              "Syncing run <strong><a href='https://wandb.ai/cs24m035-indian-institute-of-technology-madras/CS6910_Assignment2/runs/ohwzdl5u' target=\"_blank\">part_A_question2</a></strong> to <a href='https://wandb.ai/cs24m035-indian-institute-of-technology-madras/CS6910_Assignment2' target=\"_blank\">Weights & Biases</a> (<a href='https://wandb.me/developer-guide' target=\"_blank\">docs</a>)<br>Sweep page: <a href='https://wandb.ai/cs24m035-indian-institute-of-technology-madras/CS6910_Assignment2/sweeps/fjduncsb' target=\"_blank\">https://wandb.ai/cs24m035-indian-institute-of-technology-madras/CS6910_Assignment2/sweeps/fjduncsb</a>"
            ]
          },
          "metadata": {}
        },
        {
          "output_type": "display_data",
          "data": {
            "text/plain": [
              "<IPython.core.display.HTML object>"
            ],
            "text/html": [
              " View project at <a href='https://wandb.ai/cs24m035-indian-institute-of-technology-madras/CS6910_Assignment2' target=\"_blank\">https://wandb.ai/cs24m035-indian-institute-of-technology-madras/CS6910_Assignment2</a>"
            ]
          },
          "metadata": {}
        },
        {
          "output_type": "display_data",
          "data": {
            "text/plain": [
              "<IPython.core.display.HTML object>"
            ],
            "text/html": [
              " View sweep at <a href='https://wandb.ai/cs24m035-indian-institute-of-technology-madras/CS6910_Assignment2/sweeps/fjduncsb' target=\"_blank\">https://wandb.ai/cs24m035-indian-institute-of-technology-madras/CS6910_Assignment2/sweeps/fjduncsb</a>"
            ]
          },
          "metadata": {}
        },
        {
          "output_type": "display_data",
          "data": {
            "text/plain": [
              "<IPython.core.display.HTML object>"
            ],
            "text/html": [
              " View run at <a href='https://wandb.ai/cs24m035-indian-institute-of-technology-madras/CS6910_Assignment2/runs/ohwzdl5u' target=\"_blank\">https://wandb.ai/cs24m035-indian-institute-of-technology-madras/CS6910_Assignment2/runs/ohwzdl5u</a>"
            ]
          },
          "metadata": {}
        },
        {
          "output_type": "stream",
          "name": "stdout",
          "text": [
            "[3, 3, 3, 3, 3]\n",
            "[32, 32, 32, 32, 32]\n",
            "CNN(\n",
            "  (activations): GELU(approximate='none')\n",
            "  (dense_activation): GELU(approximate='none')\n",
            "  (conv_layers): ModuleList(\n",
            "    (0): Conv2d(3, 32, kernel_size=(3, 3), stride=(1, 1))\n",
            "    (1): BatchNorm2d(32, eps=0.001, momentum=0.1, affine=True, track_running_stats=True)\n",
            "    (2): GELU(approximate='none')\n",
            "    (3): MaxPool2d(kernel_size=2, stride=2, padding=0, dilation=1, ceil_mode=False)\n",
            "    (4): Conv2d(32, 32, kernel_size=(3, 3), stride=(1, 1))\n",
            "    (5): BatchNorm2d(32, eps=0.001, momentum=0.1, affine=True, track_running_stats=True)\n",
            "    (6): GELU(approximate='none')\n",
            "    (7): MaxPool2d(kernel_size=2, stride=2, padding=0, dilation=1, ceil_mode=False)\n",
            "    (8): Conv2d(32, 32, kernel_size=(3, 3), stride=(1, 1))\n",
            "    (9): BatchNorm2d(32, eps=0.001, momentum=0.1, affine=True, track_running_stats=True)\n",
            "    (10): GELU(approximate='none')\n",
            "    (11): MaxPool2d(kernel_size=2, stride=2, padding=0, dilation=1, ceil_mode=False)\n",
            "    (12): Conv2d(32, 32, kernel_size=(3, 3), stride=(1, 1))\n",
            "    (13): BatchNorm2d(32, eps=0.001, momentum=0.1, affine=True, track_running_stats=True)\n",
            "    (14): GELU(approximate='none')\n",
            "    (15): MaxPool2d(kernel_size=2, stride=2, padding=0, dilation=1, ceil_mode=False)\n",
            "    (16): Conv2d(32, 32, kernel_size=(3, 3), stride=(1, 1))\n",
            "    (17): BatchNorm2d(32, eps=0.001, momentum=0.1, affine=True, track_running_stats=True)\n",
            "    (18): GELU(approximate='none')\n",
            "    (19): MaxPool2d(kernel_size=2, stride=2, padding=0, dilation=1, ceil_mode=False)\n",
            "  )\n",
            "  (dense): Linear(in_features=800, out_features=512, bias=True)\n",
            "  (bn): BatchNorm2d(512, eps=0.001, momentum=0.1, affine=True, track_running_stats=True)\n",
            "  (dropout): Dropout(p=0, inplace=False)\n",
            "  (output): Linear(in_features=512, out_features=10, bias=True)\n",
            ")\n",
            "Epoch [1/10], Step [25/125]\n",
            "Epoch [1/10], Step [50/125]\n",
            "Epoch [1/10], Step [75/125]\n",
            "Epoch [1/10], Step [100/125]\n",
            "Epoch [1/10], Step [125/125]\n",
            "Finished Training\n",
            "Epoch 1, Training_Accuracy: 20.55256907113389 , Training_Loss: 2.1753832054138185\n",
            "Epoch 1, Validation_Accuracy: 24.5 , Validation_Loss: 2.0802653282880783\n",
            "Epoch [2/10], Step [25/125]\n",
            "Epoch [2/10], Step [50/125]\n",
            "Epoch [2/10], Step [75/125]\n",
            "Epoch [2/10], Step [100/125]\n",
            "Epoch [2/10], Step [125/125]\n",
            "Finished Training\n",
            "Epoch 2, Training_Accuracy: 26.353294161770222 , Training_Loss: 2.0568652877807616\n",
            "Epoch 2, Validation_Accuracy: 29.15 , Validation_Loss: 1.997127939015627\n",
            "Epoch [3/10], Step [25/125]\n",
            "Epoch [3/10], Step [50/125]\n",
            "Epoch [3/10], Step [75/125]\n",
            "Epoch [3/10], Step [100/125]\n",
            "Epoch [3/10], Step [125/125]\n",
            "Finished Training\n",
            "Epoch 3, Training_Accuracy: 27.890986373296663 , Training_Loss: 2.0010663270950317\n",
            "Epoch 3, Validation_Accuracy: 31.3 , Validation_Loss: 1.93838070333004\n",
            "Epoch [4/10], Step [25/125]\n",
            "Epoch [4/10], Step [50/125]\n",
            "Epoch [4/10], Step [75/125]\n",
            "Epoch [4/10], Step [100/125]\n",
            "Epoch [4/10], Step [125/125]\n",
            "Finished Training\n",
            "Epoch 4, Training_Accuracy: 30.791348918614826 , Training_Loss: 1.9626565208435058\n",
            "Epoch 4, Validation_Accuracy: 32.25 , Validation_Loss: 1.8981505520641804\n",
            "Epoch [5/10], Step [25/125]\n",
            "Epoch [5/10], Step [50/125]\n",
            "Epoch [5/10], Step [75/125]\n",
            "Epoch [5/10], Step [100/125]\n",
            "Epoch [5/10], Step [125/125]\n",
            "Finished Training\n",
            "Epoch 5, Training_Accuracy: 31.41642705338167 , Training_Loss: 1.933447922706604\n",
            "Epoch 5, Validation_Accuracy: 33.6 , Validation_Loss: 1.8634173050522804\n",
            "Epoch [6/10], Step [25/125]\n",
            "Epoch [6/10], Step [50/125]\n",
            "Epoch [6/10], Step [75/125]\n",
            "Epoch [6/10], Step [100/125]\n",
            "Epoch [6/10], Step [125/125]\n",
            "Finished Training\n",
            "Epoch 6, Training_Accuracy: 31.816477059632454 , Training_Loss: 1.9072541122436524\n",
            "Epoch 6, Validation_Accuracy: 33.65 , Validation_Loss: 1.857769027352333\n",
            "Epoch [7/10], Step [25/125]\n",
            "Epoch [7/10], Step [50/125]\n",
            "Epoch [7/10], Step [75/125]\n",
            "Epoch [7/10], Step [100/125]\n",
            "Epoch [7/10], Step [125/125]\n",
            "Finished Training\n",
            "Epoch 7, Training_Accuracy: 33.54169271158895 , Training_Loss: 1.8839673261642456\n",
            "Epoch 7, Validation_Accuracy: 33.2 , Validation_Loss: 1.8690583035349846\n",
            "Epoch [8/10], Step [25/125]\n",
            "Epoch [8/10], Step [50/125]\n",
            "Epoch [8/10], Step [75/125]\n",
            "Epoch [8/10], Step [100/125]\n",
            "Epoch [8/10], Step [125/125]\n",
            "Finished Training\n",
            "Epoch 8, Training_Accuracy: 33.829228653581694 , Training_Loss: 1.8760320224761964\n",
            "Epoch 8, Validation_Accuracy: 34.9 , Validation_Loss: 1.8423928543925285\n",
            "Epoch [9/10], Step [25/125]\n",
            "Epoch [9/10], Step [50/125]\n",
            "Epoch [9/10], Step [75/125]\n",
            "Epoch [9/10], Step [100/125]\n",
            "Epoch [9/10], Step [125/125]\n",
            "Finished Training\n",
            "Epoch 9, Training_Accuracy: 35.42942867858482 , Training_Loss: 1.8441844158172607\n",
            "Epoch 9, Validation_Accuracy: 35.85 , Validation_Loss: 1.815339658409357\n",
            "Epoch [10/10], Step [25/125]\n",
            "Epoch [10/10], Step [50/125]\n",
            "Epoch [10/10], Step [75/125]\n",
            "Epoch [10/10], Step [100/125]\n",
            "Epoch [10/10], Step [125/125]\n",
            "Finished Training\n",
            "Epoch 10, Training_Accuracy: 35.291911488936115 , Training_Loss: 1.8340294923782348\n",
            "Epoch 10, Validation_Accuracy: 36.3 , Validation_Loss: 1.8088162168860435\n"
          ]
        },
        {
          "output_type": "display_data",
          "data": {
            "text/plain": [
              "<IPython.core.display.HTML object>"
            ],
            "text/html": []
          },
          "metadata": {}
        },
        {
          "output_type": "display_data",
          "data": {
            "text/plain": [
              "<IPython.core.display.HTML object>"
            ],
            "text/html": [
              "<br>    <style><br>        .wandb-row {<br>            display: flex;<br>            flex-direction: row;<br>            flex-wrap: wrap;<br>            justify-content: flex-start;<br>            width: 100%;<br>        }<br>        .wandb-col {<br>            display: flex;<br>            flex-direction: column;<br>            flex-basis: 100%;<br>            flex: 1;<br>            padding: 10px;<br>        }<br>    </style><br><div class=\"wandb-row\"><div class=\"wandb-col\"><h3>Run history:</h3><br/><table class=\"wandb\"><tr><td>Epoch</td><td>▁▂▃▃▄▅▆▆▇█</td></tr><tr><td>Training_Accuracy</td><td>▁▄▄▆▆▆▇▇██</td></tr><tr><td>Training_Loss</td><td>█▆▄▄▃▃▂▂▁▁</td></tr><tr><td>Val_Accuracy</td><td>▁</td></tr><tr><td>Validation_Accuracy</td><td>▁▄▅▆▆▆▆▇██</td></tr><tr><td>Validation_Loss</td><td>█▆▄▃▂▂▃▂▁▁</td></tr></table><br/></div><div class=\"wandb-col\"><h3>Run summary:</h3><br/><table class=\"wandb\"><tr><td>Epoch</td><td>10</td></tr><tr><td>Training_Accuracy</td><td>35.29191</td></tr><tr><td>Training_Loss</td><td>1.83403</td></tr><tr><td>Val_Accuracy</td><td>36.3</td></tr><tr><td>Validation_Accuracy</td><td>36.3</td></tr><tr><td>Validation_Loss</td><td>1.80882</td></tr></table><br/></div></div>"
            ]
          },
          "metadata": {}
        },
        {
          "output_type": "display_data",
          "data": {
            "text/plain": [
              "<IPython.core.display.HTML object>"
            ],
            "text/html": [
              " View run <strong style=\"color:#cdcd00\">_nf_32_fo_same_dr_0_neu_512_act_GELU_aug_False_norm_True_ep_10</strong> at: <a href='https://wandb.ai/cs24m035-indian-institute-of-technology-madras/CS6910_Assignment2/runs/ohwzdl5u' target=\"_blank\">https://wandb.ai/cs24m035-indian-institute-of-technology-madras/CS6910_Assignment2/runs/ohwzdl5u</a><br> View project at: <a href='https://wandb.ai/cs24m035-indian-institute-of-technology-madras/CS6910_Assignment2' target=\"_blank\">https://wandb.ai/cs24m035-indian-institute-of-technology-madras/CS6910_Assignment2</a><br>Synced 5 W&B file(s), 0 media file(s), 0 artifact file(s) and 0 other file(s)"
            ]
          },
          "metadata": {}
        },
        {
          "output_type": "display_data",
          "data": {
            "text/plain": [
              "<IPython.core.display.HTML object>"
            ],
            "text/html": [
              "Find logs at: <code>./wandb/run-20250410_161001-ohwzdl5u/logs</code>"
            ]
          },
          "metadata": {}
        },
        {
          "output_type": "stream",
          "name": "stderr",
          "text": [
            "\u001b[34m\u001b[1mwandb\u001b[0m: Agent Starting Run: 4iys2sjd with config:\n",
            "\u001b[34m\u001b[1mwandb\u001b[0m: \tactivation: LeakyReLU\n",
            "\u001b[34m\u001b[1mwandb\u001b[0m: \tbatch_norm: False\n",
            "\u001b[34m\u001b[1mwandb\u001b[0m: \tdata_augmentation: True\n",
            "\u001b[34m\u001b[1mwandb\u001b[0m: \tdropout_rate: 0.5\n",
            "\u001b[34m\u001b[1mwandb\u001b[0m: \tepochs: 10\n",
            "\u001b[34m\u001b[1mwandb\u001b[0m: \tfilter_organisation: double\n",
            "\u001b[34m\u001b[1mwandb\u001b[0m: \tfilter_size: 3\n",
            "\u001b[34m\u001b[1mwandb\u001b[0m: \tnum_filters: 16\n",
            "\u001b[34m\u001b[1mwandb\u001b[0m: \tnum_neurons_dense: 512\n"
          ]
        },
        {
          "output_type": "display_data",
          "data": {
            "text/plain": [
              "<IPython.core.display.HTML object>"
            ],
            "text/html": [
              "Ignoring project 'CS6910_Assignment2' when running a sweep."
            ]
          },
          "metadata": {}
        },
        {
          "output_type": "display_data",
          "data": {
            "text/plain": [
              "<IPython.core.display.HTML object>"
            ],
            "text/html": [
              "Tracking run with wandb version 0.19.9"
            ]
          },
          "metadata": {}
        },
        {
          "output_type": "display_data",
          "data": {
            "text/plain": [
              "<IPython.core.display.HTML object>"
            ],
            "text/html": [
              "Run data is saved locally in <code>/content/wandb/run-20250410_162649-4iys2sjd</code>"
            ]
          },
          "metadata": {}
        },
        {
          "output_type": "display_data",
          "data": {
            "text/plain": [
              "<IPython.core.display.HTML object>"
            ],
            "text/html": [
              "Syncing run <strong><a href='https://wandb.ai/cs24m035-indian-institute-of-technology-madras/CS6910_Assignment2/runs/4iys2sjd' target=\"_blank\">part_A_question2</a></strong> to <a href='https://wandb.ai/cs24m035-indian-institute-of-technology-madras/CS6910_Assignment2' target=\"_blank\">Weights & Biases</a> (<a href='https://wandb.me/developer-guide' target=\"_blank\">docs</a>)<br>Sweep page: <a href='https://wandb.ai/cs24m035-indian-institute-of-technology-madras/CS6910_Assignment2/sweeps/fjduncsb' target=\"_blank\">https://wandb.ai/cs24m035-indian-institute-of-technology-madras/CS6910_Assignment2/sweeps/fjduncsb</a>"
            ]
          },
          "metadata": {}
        },
        {
          "output_type": "display_data",
          "data": {
            "text/plain": [
              "<IPython.core.display.HTML object>"
            ],
            "text/html": [
              " View project at <a href='https://wandb.ai/cs24m035-indian-institute-of-technology-madras/CS6910_Assignment2' target=\"_blank\">https://wandb.ai/cs24m035-indian-institute-of-technology-madras/CS6910_Assignment2</a>"
            ]
          },
          "metadata": {}
        },
        {
          "output_type": "display_data",
          "data": {
            "text/plain": [
              "<IPython.core.display.HTML object>"
            ],
            "text/html": [
              " View sweep at <a href='https://wandb.ai/cs24m035-indian-institute-of-technology-madras/CS6910_Assignment2/sweeps/fjduncsb' target=\"_blank\">https://wandb.ai/cs24m035-indian-institute-of-technology-madras/CS6910_Assignment2/sweeps/fjduncsb</a>"
            ]
          },
          "metadata": {}
        },
        {
          "output_type": "display_data",
          "data": {
            "text/plain": [
              "<IPython.core.display.HTML object>"
            ],
            "text/html": [
              " View run at <a href='https://wandb.ai/cs24m035-indian-institute-of-technology-madras/CS6910_Assignment2/runs/4iys2sjd' target=\"_blank\">https://wandb.ai/cs24m035-indian-institute-of-technology-madras/CS6910_Assignment2/runs/4iys2sjd</a>"
            ]
          },
          "metadata": {}
        },
        {
          "output_type": "stream",
          "name": "stdout",
          "text": [
            "[3, 3, 3, 3, 3]\n",
            "[16, 32, 64, 128, 256]\n",
            "CNN(\n",
            "  (activations): LeakyReLU(negative_slope=0.01)\n",
            "  (dense_activation): LeakyReLU(negative_slope=0.01)\n",
            "  (conv_layers): ModuleList(\n",
            "    (0): Conv2d(3, 16, kernel_size=(3, 3), stride=(1, 1))\n",
            "    (1): LeakyReLU(negative_slope=0.01)\n",
            "    (2): MaxPool2d(kernel_size=2, stride=2, padding=0, dilation=1, ceil_mode=False)\n",
            "    (3): Conv2d(16, 32, kernel_size=(3, 3), stride=(1, 1))\n",
            "    (4): LeakyReLU(negative_slope=0.01)\n",
            "    (5): MaxPool2d(kernel_size=2, stride=2, padding=0, dilation=1, ceil_mode=False)\n",
            "    (6): Conv2d(32, 64, kernel_size=(3, 3), stride=(1, 1))\n",
            "    (7): LeakyReLU(negative_slope=0.01)\n",
            "    (8): MaxPool2d(kernel_size=2, stride=2, padding=0, dilation=1, ceil_mode=False)\n",
            "    (9): Conv2d(64, 128, kernel_size=(3, 3), stride=(1, 1))\n",
            "    (10): LeakyReLU(negative_slope=0.01)\n",
            "    (11): MaxPool2d(kernel_size=2, stride=2, padding=0, dilation=1, ceil_mode=False)\n",
            "    (12): Conv2d(128, 256, kernel_size=(3, 3), stride=(1, 1))\n",
            "    (13): LeakyReLU(negative_slope=0.01)\n",
            "    (14): MaxPool2d(kernel_size=2, stride=2, padding=0, dilation=1, ceil_mode=False)\n",
            "  )\n",
            "  (dense): Linear(in_features=6400, out_features=512, bias=True)\n",
            "  (bn): BatchNorm2d(512, eps=0.001, momentum=0.1, affine=True, track_running_stats=True)\n",
            "  (dropout): Dropout(p=0.5, inplace=False)\n",
            "  (output): Linear(in_features=512, out_features=10, bias=True)\n",
            ")\n",
            "Epoch [1/10], Step [25/125]\n",
            "Epoch [1/10], Step [50/125]\n",
            "Epoch [1/10], Step [75/125]\n",
            "Epoch [1/10], Step [100/125]\n",
            "Epoch [1/10], Step [125/125]\n",
            "Finished Training\n",
            "Epoch 1, Training_Accuracy: 15.16439554944368 , Training_Loss: 2.264622636795044\n",
            "Epoch 1, Validation_Accuracy: 20.05 , Validation_Loss: 2.1795835345983505\n",
            "Epoch [2/10], Step [25/125]\n",
            "Epoch [2/10], Step [50/125]\n",
            "Epoch [2/10], Step [75/125]\n",
            "Epoch [2/10], Step [100/125]\n",
            "Epoch [2/10], Step [125/125]\n",
            "Finished Training\n",
            "Epoch 2, Training_Accuracy: 20.36504563070384 , Training_Loss: 2.162740511894226\n",
            "Epoch 2, Validation_Accuracy: 23.5 , Validation_Loss: 2.11193223670125\n",
            "Epoch [3/10], Step [25/125]\n",
            "Epoch [3/10], Step [50/125]\n",
            "Epoch [3/10], Step [75/125]\n",
            "Epoch [3/10], Step [100/125]\n",
            "Epoch [3/10], Step [125/125]\n",
            "Finished Training\n",
            "Epoch 3, Training_Accuracy: 23.427928491061383 , Training_Loss: 2.1175247764587404\n",
            "Epoch 3, Validation_Accuracy: 26.05 , Validation_Loss: 2.0704073198139668\n",
            "Epoch [4/10], Step [25/125]\n",
            "Epoch [4/10], Step [50/125]\n",
            "Epoch [4/10], Step [75/125]\n",
            "Epoch [4/10], Step [100/125]\n",
            "Epoch [4/10], Step [125/125]\n",
            "Finished Training\n",
            "Epoch 4, Training_Accuracy: 24.70308788598575 , Training_Loss: 2.090314721107483\n",
            "Epoch 4, Validation_Accuracy: 28.95 , Validation_Loss: 2.0127492249011993\n",
            "Epoch [5/10], Step [25/125]\n",
            "Epoch [5/10], Step [50/125]\n",
            "Epoch [5/10], Step [75/125]\n",
            "Epoch [5/10], Step [100/125]\n",
            "Epoch [5/10], Step [125/125]\n",
            "Finished Training\n",
            "Epoch 5, Training_Accuracy: 25.37817227153394 , Training_Loss: 2.0634603519439696\n",
            "Epoch 5, Validation_Accuracy: 28.75 , Validation_Loss: 1.9916863963007927\n",
            "Epoch [6/10], Step [25/125]\n",
            "Epoch [6/10], Step [50/125]\n",
            "Epoch [6/10], Step [75/125]\n",
            "Epoch [6/10], Step [100/125]\n",
            "Epoch [6/10], Step [125/125]\n",
            "Finished Training\n",
            "Epoch 6, Training_Accuracy: 27.465933241655208 , Training_Loss: 2.0322343692779543\n",
            "Epoch 6, Validation_Accuracy: 30.5 , Validation_Loss: 1.9687172695994377\n",
            "Epoch [7/10], Step [25/125]\n",
            "Epoch [7/10], Step [50/125]\n",
            "Epoch [7/10], Step [75/125]\n",
            "Epoch [7/10], Step [100/125]\n",
            "Epoch [7/10], Step [125/125]\n",
            "Finished Training\n",
            "Epoch 7, Training_Accuracy: 27.690961370171273 , Training_Loss: 2.017870616912842\n",
            "Epoch 7, Validation_Accuracy: 32.4 , Validation_Loss: 1.949252411723137\n",
            "Epoch [8/10], Step [25/125]\n",
            "Epoch [8/10], Step [50/125]\n",
            "Epoch [8/10], Step [75/125]\n",
            "Epoch [8/10], Step [100/125]\n",
            "Epoch [8/10], Step [125/125]\n",
            "Finished Training\n",
            "Epoch 8, Training_Accuracy: 28.541067633454183 , Training_Loss: 1.999430181503296\n",
            "Epoch 8, Validation_Accuracy: 31.8 , Validation_Loss: 1.9267725236713886\n",
            "Epoch [9/10], Step [25/125]\n",
            "Epoch [9/10], Step [50/125]\n",
            "Epoch [9/10], Step [75/125]\n",
            "Epoch [9/10], Step [100/125]\n",
            "Epoch [9/10], Step [125/125]\n",
            "Finished Training\n",
            "Epoch 9, Training_Accuracy: 29.091136392049005 , Training_Loss: 1.9865115690231323\n",
            "Epoch 9, Validation_Accuracy: 30.65 , Validation_Loss: 1.9319544956088066\n",
            "Epoch [10/10], Step [25/125]\n",
            "Epoch [10/10], Step [50/125]\n",
            "Epoch [10/10], Step [75/125]\n",
            "Epoch [10/10], Step [100/125]\n",
            "Epoch [10/10], Step [125/125]\n",
            "Finished Training\n",
            "Epoch 10, Training_Accuracy: 29.753719214901864 , Training_Loss: 1.9755276622772218\n",
            "Epoch 10, Validation_Accuracy: 32.65 , Validation_Loss: 1.9027636796236038\n"
          ]
        },
        {
          "output_type": "display_data",
          "data": {
            "text/plain": [
              "<IPython.core.display.HTML object>"
            ],
            "text/html": []
          },
          "metadata": {}
        },
        {
          "output_type": "display_data",
          "data": {
            "text/plain": [
              "<IPython.core.display.HTML object>"
            ],
            "text/html": [
              "<br>    <style><br>        .wandb-row {<br>            display: flex;<br>            flex-direction: row;<br>            flex-wrap: wrap;<br>            justify-content: flex-start;<br>            width: 100%;<br>        }<br>        .wandb-col {<br>            display: flex;<br>            flex-direction: column;<br>            flex-basis: 100%;<br>            flex: 1;<br>            padding: 10px;<br>        }<br>    </style><br><div class=\"wandb-row\"><div class=\"wandb-col\"><h3>Run history:</h3><br/><table class=\"wandb\"><tr><td>Epoch</td><td>▁▂▃▃▄▅▆▆▇█</td></tr><tr><td>Training_Accuracy</td><td>▁▃▅▆▆▇▇▇██</td></tr><tr><td>Training_Loss</td><td>█▆▄▄▃▂▂▂▁▁</td></tr><tr><td>Val_Accuracy</td><td>▁</td></tr><tr><td>Validation_Accuracy</td><td>▁▃▄▆▆▇██▇█</td></tr><tr><td>Validation_Loss</td><td>█▆▅▄▃▃▂▂▂▁</td></tr></table><br/></div><div class=\"wandb-col\"><h3>Run summary:</h3><br/><table class=\"wandb\"><tr><td>Epoch</td><td>10</td></tr><tr><td>Training_Accuracy</td><td>29.75372</td></tr><tr><td>Training_Loss</td><td>1.97553</td></tr><tr><td>Val_Accuracy</td><td>32.65</td></tr><tr><td>Validation_Accuracy</td><td>32.65</td></tr><tr><td>Validation_Loss</td><td>1.90276</td></tr></table><br/></div></div>"
            ]
          },
          "metadata": {}
        },
        {
          "output_type": "display_data",
          "data": {
            "text/plain": [
              "<IPython.core.display.HTML object>"
            ],
            "text/html": [
              " View run <strong style=\"color:#cdcd00\">_nf_16_fo_double_dr_0.5_neu_512_act_LeakyReLU_aug_True_norm_False_ep_10</strong> at: <a href='https://wandb.ai/cs24m035-indian-institute-of-technology-madras/CS6910_Assignment2/runs/4iys2sjd' target=\"_blank\">https://wandb.ai/cs24m035-indian-institute-of-technology-madras/CS6910_Assignment2/runs/4iys2sjd</a><br> View project at: <a href='https://wandb.ai/cs24m035-indian-institute-of-technology-madras/CS6910_Assignment2' target=\"_blank\">https://wandb.ai/cs24m035-indian-institute-of-technology-madras/CS6910_Assignment2</a><br>Synced 5 W&B file(s), 0 media file(s), 0 artifact file(s) and 0 other file(s)"
            ]
          },
          "metadata": {}
        },
        {
          "output_type": "display_data",
          "data": {
            "text/plain": [
              "<IPython.core.display.HTML object>"
            ],
            "text/html": [
              "Find logs at: <code>./wandb/run-20250410_162649-4iys2sjd/logs</code>"
            ]
          },
          "metadata": {}
        },
        {
          "output_type": "stream",
          "name": "stderr",
          "text": [
            "\u001b[34m\u001b[1mwandb\u001b[0m: Sweep Agent: Waiting for job.\n",
            "\u001b[34m\u001b[1mwandb\u001b[0m: Job received.\n",
            "\u001b[34m\u001b[1mwandb\u001b[0m: Agent Starting Run: 8x1obddy with config:\n",
            "\u001b[34m\u001b[1mwandb\u001b[0m: \tactivation: GELU\n",
            "\u001b[34m\u001b[1mwandb\u001b[0m: \tbatch_norm: True\n",
            "\u001b[34m\u001b[1mwandb\u001b[0m: \tdata_augmentation: False\n",
            "\u001b[34m\u001b[1mwandb\u001b[0m: \tdropout_rate: 0\n",
            "\u001b[34m\u001b[1mwandb\u001b[0m: \tepochs: 10\n",
            "\u001b[34m\u001b[1mwandb\u001b[0m: \tfilter_organisation: double\n",
            "\u001b[34m\u001b[1mwandb\u001b[0m: \tfilter_size: 5\n",
            "\u001b[34m\u001b[1mwandb\u001b[0m: \tnum_filters: 32\n",
            "\u001b[34m\u001b[1mwandb\u001b[0m: \tnum_neurons_dense: 512\n"
          ]
        },
        {
          "output_type": "display_data",
          "data": {
            "text/plain": [
              "<IPython.core.display.HTML object>"
            ],
            "text/html": [
              "Ignoring project 'CS6910_Assignment2' when running a sweep."
            ]
          },
          "metadata": {}
        },
        {
          "output_type": "display_data",
          "data": {
            "text/plain": [
              "<IPython.core.display.HTML object>"
            ],
            "text/html": [
              "Tracking run with wandb version 0.19.9"
            ]
          },
          "metadata": {}
        },
        {
          "output_type": "display_data",
          "data": {
            "text/plain": [
              "<IPython.core.display.HTML object>"
            ],
            "text/html": [
              "Run data is saved locally in <code>/content/wandb/run-20250410_164352-8x1obddy</code>"
            ]
          },
          "metadata": {}
        },
        {
          "output_type": "display_data",
          "data": {
            "text/plain": [
              "<IPython.core.display.HTML object>"
            ],
            "text/html": [
              "Syncing run <strong><a href='https://wandb.ai/cs24m035-indian-institute-of-technology-madras/CS6910_Assignment2/runs/8x1obddy' target=\"_blank\">part_A_question2</a></strong> to <a href='https://wandb.ai/cs24m035-indian-institute-of-technology-madras/CS6910_Assignment2' target=\"_blank\">Weights & Biases</a> (<a href='https://wandb.me/developer-guide' target=\"_blank\">docs</a>)<br>Sweep page: <a href='https://wandb.ai/cs24m035-indian-institute-of-technology-madras/CS6910_Assignment2/sweeps/fjduncsb' target=\"_blank\">https://wandb.ai/cs24m035-indian-institute-of-technology-madras/CS6910_Assignment2/sweeps/fjduncsb</a>"
            ]
          },
          "metadata": {}
        },
        {
          "output_type": "display_data",
          "data": {
            "text/plain": [
              "<IPython.core.display.HTML object>"
            ],
            "text/html": [
              " View project at <a href='https://wandb.ai/cs24m035-indian-institute-of-technology-madras/CS6910_Assignment2' target=\"_blank\">https://wandb.ai/cs24m035-indian-institute-of-technology-madras/CS6910_Assignment2</a>"
            ]
          },
          "metadata": {}
        },
        {
          "output_type": "display_data",
          "data": {
            "text/plain": [
              "<IPython.core.display.HTML object>"
            ],
            "text/html": [
              " View sweep at <a href='https://wandb.ai/cs24m035-indian-institute-of-technology-madras/CS6910_Assignment2/sweeps/fjduncsb' target=\"_blank\">https://wandb.ai/cs24m035-indian-institute-of-technology-madras/CS6910_Assignment2/sweeps/fjduncsb</a>"
            ]
          },
          "metadata": {}
        },
        {
          "output_type": "display_data",
          "data": {
            "text/plain": [
              "<IPython.core.display.HTML object>"
            ],
            "text/html": [
              " View run at <a href='https://wandb.ai/cs24m035-indian-institute-of-technology-madras/CS6910_Assignment2/runs/8x1obddy' target=\"_blank\">https://wandb.ai/cs24m035-indian-institute-of-technology-madras/CS6910_Assignment2/runs/8x1obddy</a>"
            ]
          },
          "metadata": {}
        },
        {
          "output_type": "stream",
          "name": "stdout",
          "text": [
            "[5, 5, 5, 5, 5]\n",
            "[32, 64, 128, 256, 512]\n",
            "CNN(\n",
            "  (activations): GELU(approximate='none')\n",
            "  (dense_activation): GELU(approximate='none')\n",
            "  (conv_layers): ModuleList(\n",
            "    (0): Conv2d(3, 32, kernel_size=(5, 5), stride=(1, 1))\n",
            "    (1): BatchNorm2d(32, eps=0.001, momentum=0.1, affine=True, track_running_stats=True)\n",
            "    (2): GELU(approximate='none')\n",
            "    (3): MaxPool2d(kernel_size=2, stride=2, padding=0, dilation=1, ceil_mode=False)\n",
            "    (4): Conv2d(32, 64, kernel_size=(5, 5), stride=(1, 1))\n",
            "    (5): BatchNorm2d(64, eps=0.001, momentum=0.1, affine=True, track_running_stats=True)\n",
            "    (6): GELU(approximate='none')\n",
            "    (7): MaxPool2d(kernel_size=2, stride=2, padding=0, dilation=1, ceil_mode=False)\n",
            "    (8): Conv2d(64, 128, kernel_size=(5, 5), stride=(1, 1))\n",
            "    (9): BatchNorm2d(128, eps=0.001, momentum=0.1, affine=True, track_running_stats=True)\n",
            "    (10): GELU(approximate='none')\n",
            "    (11): MaxPool2d(kernel_size=2, stride=2, padding=0, dilation=1, ceil_mode=False)\n",
            "    (12): Conv2d(128, 256, kernel_size=(5, 5), stride=(1, 1))\n",
            "    (13): BatchNorm2d(256, eps=0.001, momentum=0.1, affine=True, track_running_stats=True)\n",
            "    (14): GELU(approximate='none')\n",
            "    (15): MaxPool2d(kernel_size=2, stride=2, padding=0, dilation=1, ceil_mode=False)\n",
            "    (16): Conv2d(256, 512, kernel_size=(5, 5), stride=(1, 1))\n",
            "    (17): BatchNorm2d(512, eps=0.001, momentum=0.1, affine=True, track_running_stats=True)\n",
            "    (18): GELU(approximate='none')\n",
            "    (19): MaxPool2d(kernel_size=2, stride=2, padding=0, dilation=1, ceil_mode=False)\n",
            "  )\n",
            "  (dense): Linear(in_features=4608, out_features=512, bias=True)\n",
            "  (bn): BatchNorm2d(512, eps=0.001, momentum=0.1, affine=True, track_running_stats=True)\n",
            "  (dropout): Dropout(p=0, inplace=False)\n",
            "  (output): Linear(in_features=512, out_features=10, bias=True)\n",
            ")\n",
            "Epoch [1/10], Step [25/125]\n",
            "Epoch [1/10], Step [50/125]\n",
            "Epoch [1/10], Step [75/125]\n",
            "Epoch [1/10], Step [100/125]\n",
            "Epoch [1/10], Step [125/125]\n",
            "Finished Training\n",
            "Epoch 1, Training_Accuracy: 23.102887860982623 , Training_Loss: 2.126781308174133\n",
            "Epoch 1, Validation_Accuracy: 29.6 , Validation_Loss: 1.9769264496862888\n",
            "Epoch [2/10], Step [25/125]\n",
            "Epoch [2/10], Step [50/125]\n",
            "Epoch [2/10], Step [75/125]\n",
            "Epoch [2/10], Step [100/125]\n",
            "Epoch [2/10], Step [125/125]\n",
            "Finished Training\n",
            "Epoch 2, Training_Accuracy: 27.25340667583448 , Training_Loss: 2.0342283945083617\n",
            "Epoch 2, Validation_Accuracy: 30.45 , Validation_Loss: 1.9542127884924412\n",
            "Epoch [3/10], Step [25/125]\n",
            "Epoch [3/10], Step [50/125]\n",
            "Epoch [3/10], Step [75/125]\n",
            "Epoch [3/10], Step [100/125]\n",
            "Epoch [3/10], Step [125/125]\n",
            "Finished Training\n",
            "Epoch 3, Training_Accuracy: 29.64120515064383 , Training_Loss: 1.9777304315567017\n",
            "Epoch 3, Validation_Accuracy: 34.3 , Validation_Loss: 1.8663288913667202\n",
            "Epoch [4/10], Step [25/125]\n",
            "Epoch [4/10], Step [50/125]\n",
            "Epoch [4/10], Step [75/125]\n",
            "Epoch [4/10], Step [100/125]\n",
            "Epoch [4/10], Step [125/125]\n",
            "Finished Training\n",
            "Epoch 4, Training_Accuracy: 31.928991123890487 , Training_Loss: 1.9159911880493163\n",
            "Epoch 4, Validation_Accuracy: 32.15 , Validation_Loss: 1.9267303869128227\n",
            "Epoch [5/10], Step [25/125]\n",
            "Epoch [5/10], Step [50/125]\n",
            "Epoch [5/10], Step [75/125]\n",
            "Epoch [5/10], Step [100/125]\n",
            "Epoch [5/10], Step [125/125]\n",
            "Finished Training\n",
            "Epoch 5, Training_Accuracy: 32.52906613326666 , Training_Loss: 1.8912888402938843\n",
            "Epoch 5, Validation_Accuracy: 31.55 , Validation_Loss: 1.9372273311018944\n",
            "Epoch [6/10], Step [25/125]\n",
            "Epoch [6/10], Step [50/125]\n",
            "Epoch [6/10], Step [75/125]\n",
            "Epoch [6/10], Step [100/125]\n",
            "Epoch [6/10], Step [125/125]\n",
            "Finished Training\n",
            "Epoch 6, Training_Accuracy: 33.2541567695962 , Training_Loss: 1.8686039409637452\n",
            "Epoch 6, Validation_Accuracy: 36.05 , Validation_Loss: 1.8055634796619415\n",
            "Epoch [7/10], Step [25/125]\n",
            "Epoch [7/10], Step [50/125]\n",
            "Epoch [7/10], Step [75/125]\n",
            "Epoch [7/10], Step [100/125]\n",
            "Epoch [7/10], Step [125/125]\n",
            "Finished Training\n",
            "Epoch 7, Training_Accuracy: 34.891861482685336 , Training_Loss: 1.8228870248794555\n",
            "Epoch 7, Validation_Accuracy: 35.8 , Validation_Loss: 1.812344167381525\n",
            "Epoch [8/10], Step [25/125]\n",
            "Epoch [8/10], Step [50/125]\n",
            "Epoch [8/10], Step [75/125]\n",
            "Epoch [8/10], Step [100/125]\n",
            "Epoch [8/10], Step [125/125]\n",
            "Finished Training\n",
            "Epoch 8, Training_Accuracy: 36.05450681335167 , Training_Loss: 1.8102580709457397\n",
            "Epoch 8, Validation_Accuracy: 35.1 , Validation_Loss: 1.8460849598050117\n",
            "Epoch [9/10], Step [25/125]\n",
            "Epoch [9/10], Step [50/125]\n",
            "Epoch [9/10], Step [75/125]\n",
            "Epoch [9/10], Step [100/125]\n",
            "Epoch [9/10], Step [125/125]\n",
            "Finished Training\n",
            "Epoch 9, Training_Accuracy: 36.92961620202525 , Training_Loss: 1.7797132720947266\n",
            "Epoch 9, Validation_Accuracy: 36.9 , Validation_Loss: 1.769563015550375\n",
            "Epoch [10/10], Step [25/125]\n",
            "Epoch [10/10], Step [50/125]\n",
            "Epoch [10/10], Step [75/125]\n",
            "Epoch [10/10], Step [100/125]\n",
            "Epoch [10/10], Step [125/125]\n",
            "Finished Training\n",
            "Epoch 10, Training_Accuracy: 38.56732091511439 , Training_Loss: 1.754195224761963\n",
            "Epoch 10, Validation_Accuracy: 37.95 , Validation_Loss: 1.7742898277938366\n"
          ]
        },
        {
          "output_type": "display_data",
          "data": {
            "text/plain": [
              "<IPython.core.display.HTML object>"
            ],
            "text/html": []
          },
          "metadata": {}
        },
        {
          "output_type": "display_data",
          "data": {
            "text/plain": [
              "<IPython.core.display.HTML object>"
            ],
            "text/html": [
              "<br>    <style><br>        .wandb-row {<br>            display: flex;<br>            flex-direction: row;<br>            flex-wrap: wrap;<br>            justify-content: flex-start;<br>            width: 100%;<br>        }<br>        .wandb-col {<br>            display: flex;<br>            flex-direction: column;<br>            flex-basis: 100%;<br>            flex: 1;<br>            padding: 10px;<br>        }<br>    </style><br><div class=\"wandb-row\"><div class=\"wandb-col\"><h3>Run history:</h3><br/><table class=\"wandb\"><tr><td>Epoch</td><td>▁▂▃▃▄▅▆▆▇█</td></tr><tr><td>Training_Accuracy</td><td>▁▃▄▅▅▆▆▇▇█</td></tr><tr><td>Training_Loss</td><td>█▆▅▄▄▃▂▂▁▁</td></tr><tr><td>Val_Accuracy</td><td>▁</td></tr><tr><td>Validation_Accuracy</td><td>▁▂▅▃▃▆▆▆▇█</td></tr><tr><td>Validation_Loss</td><td>█▇▄▆▇▂▂▄▁▁</td></tr></table><br/></div><div class=\"wandb-col\"><h3>Run summary:</h3><br/><table class=\"wandb\"><tr><td>Epoch</td><td>10</td></tr><tr><td>Training_Accuracy</td><td>38.56732</td></tr><tr><td>Training_Loss</td><td>1.7542</td></tr><tr><td>Val_Accuracy</td><td>37.95</td></tr><tr><td>Validation_Accuracy</td><td>37.95</td></tr><tr><td>Validation_Loss</td><td>1.77429</td></tr></table><br/></div></div>"
            ]
          },
          "metadata": {}
        },
        {
          "output_type": "display_data",
          "data": {
            "text/plain": [
              "<IPython.core.display.HTML object>"
            ],
            "text/html": [
              " View run <strong style=\"color:#cdcd00\">_nf_32_fo_double_dr_0_neu_512_act_GELU_aug_False_norm_True_ep_10</strong> at: <a href='https://wandb.ai/cs24m035-indian-institute-of-technology-madras/CS6910_Assignment2/runs/8x1obddy' target=\"_blank\">https://wandb.ai/cs24m035-indian-institute-of-technology-madras/CS6910_Assignment2/runs/8x1obddy</a><br> View project at: <a href='https://wandb.ai/cs24m035-indian-institute-of-technology-madras/CS6910_Assignment2' target=\"_blank\">https://wandb.ai/cs24m035-indian-institute-of-technology-madras/CS6910_Assignment2</a><br>Synced 5 W&B file(s), 0 media file(s), 0 artifact file(s) and 0 other file(s)"
            ]
          },
          "metadata": {}
        },
        {
          "output_type": "display_data",
          "data": {
            "text/plain": [
              "<IPython.core.display.HTML object>"
            ],
            "text/html": [
              "Find logs at: <code>./wandb/run-20250410_164352-8x1obddy/logs</code>"
            ]
          },
          "metadata": {}
        },
        {
          "output_type": "stream",
          "name": "stderr",
          "text": [
            "\u001b[34m\u001b[1mwandb\u001b[0m: Agent Starting Run: 9rq30i3o with config:\n",
            "\u001b[34m\u001b[1mwandb\u001b[0m: \tactivation: GELU\n",
            "\u001b[34m\u001b[1mwandb\u001b[0m: \tbatch_norm: False\n",
            "\u001b[34m\u001b[1mwandb\u001b[0m: \tdata_augmentation: False\n",
            "\u001b[34m\u001b[1mwandb\u001b[0m: \tdropout_rate: 0.5\n",
            "\u001b[34m\u001b[1mwandb\u001b[0m: \tepochs: 20\n",
            "\u001b[34m\u001b[1mwandb\u001b[0m: \tfilter_organisation: half\n",
            "\u001b[34m\u001b[1mwandb\u001b[0m: \tfilter_size: 5\n",
            "\u001b[34m\u001b[1mwandb\u001b[0m: \tnum_filters: 32\n",
            "\u001b[34m\u001b[1mwandb\u001b[0m: \tnum_neurons_dense: 512\n"
          ]
        },
        {
          "output_type": "display_data",
          "data": {
            "text/plain": [
              "<IPython.core.display.HTML object>"
            ],
            "text/html": [
              "Ignoring project 'CS6910_Assignment2' when running a sweep."
            ]
          },
          "metadata": {}
        },
        {
          "output_type": "display_data",
          "data": {
            "text/plain": [
              "<IPython.core.display.HTML object>"
            ],
            "text/html": [
              "Tracking run with wandb version 0.19.9"
            ]
          },
          "metadata": {}
        },
        {
          "output_type": "display_data",
          "data": {
            "text/plain": [
              "<IPython.core.display.HTML object>"
            ],
            "text/html": [
              "Run data is saved locally in <code>/content/wandb/run-20250410_170059-9rq30i3o</code>"
            ]
          },
          "metadata": {}
        },
        {
          "output_type": "display_data",
          "data": {
            "text/plain": [
              "<IPython.core.display.HTML object>"
            ],
            "text/html": [
              "Syncing run <strong><a href='https://wandb.ai/cs24m035-indian-institute-of-technology-madras/CS6910_Assignment2/runs/9rq30i3o' target=\"_blank\">part_A_question2</a></strong> to <a href='https://wandb.ai/cs24m035-indian-institute-of-technology-madras/CS6910_Assignment2' target=\"_blank\">Weights & Biases</a> (<a href='https://wandb.me/developer-guide' target=\"_blank\">docs</a>)<br>Sweep page: <a href='https://wandb.ai/cs24m035-indian-institute-of-technology-madras/CS6910_Assignment2/sweeps/fjduncsb' target=\"_blank\">https://wandb.ai/cs24m035-indian-institute-of-technology-madras/CS6910_Assignment2/sweeps/fjduncsb</a>"
            ]
          },
          "metadata": {}
        },
        {
          "output_type": "display_data",
          "data": {
            "text/plain": [
              "<IPython.core.display.HTML object>"
            ],
            "text/html": [
              " View project at <a href='https://wandb.ai/cs24m035-indian-institute-of-technology-madras/CS6910_Assignment2' target=\"_blank\">https://wandb.ai/cs24m035-indian-institute-of-technology-madras/CS6910_Assignment2</a>"
            ]
          },
          "metadata": {}
        },
        {
          "output_type": "display_data",
          "data": {
            "text/plain": [
              "<IPython.core.display.HTML object>"
            ],
            "text/html": [
              " View sweep at <a href='https://wandb.ai/cs24m035-indian-institute-of-technology-madras/CS6910_Assignment2/sweeps/fjduncsb' target=\"_blank\">https://wandb.ai/cs24m035-indian-institute-of-technology-madras/CS6910_Assignment2/sweeps/fjduncsb</a>"
            ]
          },
          "metadata": {}
        },
        {
          "output_type": "display_data",
          "data": {
            "text/plain": [
              "<IPython.core.display.HTML object>"
            ],
            "text/html": [
              " View run at <a href='https://wandb.ai/cs24m035-indian-institute-of-technology-madras/CS6910_Assignment2/runs/9rq30i3o' target=\"_blank\">https://wandb.ai/cs24m035-indian-institute-of-technology-madras/CS6910_Assignment2/runs/9rq30i3o</a>"
            ]
          },
          "metadata": {}
        },
        {
          "output_type": "stream",
          "name": "stdout",
          "text": [
            "[5, 5, 5, 5, 5]\n",
            "[32, 16, 8, 4, 2]\n",
            "CNN(\n",
            "  (activations): GELU(approximate='none')\n",
            "  (dense_activation): GELU(approximate='none')\n",
            "  (conv_layers): ModuleList(\n",
            "    (0): Conv2d(3, 32, kernel_size=(5, 5), stride=(1, 1))\n",
            "    (1): GELU(approximate='none')\n",
            "    (2): MaxPool2d(kernel_size=2, stride=2, padding=0, dilation=1, ceil_mode=False)\n",
            "    (3): Conv2d(32, 16, kernel_size=(5, 5), stride=(1, 1))\n",
            "    (4): GELU(approximate='none')\n",
            "    (5): MaxPool2d(kernel_size=2, stride=2, padding=0, dilation=1, ceil_mode=False)\n",
            "    (6): Conv2d(16, 8, kernel_size=(5, 5), stride=(1, 1))\n",
            "    (7): GELU(approximate='none')\n",
            "    (8): MaxPool2d(kernel_size=2, stride=2, padding=0, dilation=1, ceil_mode=False)\n",
            "    (9): Conv2d(8, 4, kernel_size=(5, 5), stride=(1, 1))\n",
            "    (10): GELU(approximate='none')\n",
            "    (11): MaxPool2d(kernel_size=2, stride=2, padding=0, dilation=1, ceil_mode=False)\n",
            "    (12): Conv2d(4, 2, kernel_size=(5, 5), stride=(1, 1))\n",
            "    (13): GELU(approximate='none')\n",
            "    (14): MaxPool2d(kernel_size=2, stride=2, padding=0, dilation=1, ceil_mode=False)\n",
            "  )\n",
            "  (dense): Linear(in_features=18, out_features=512, bias=True)\n",
            "  (bn): BatchNorm2d(512, eps=0.001, momentum=0.1, affine=True, track_running_stats=True)\n",
            "  (dropout): Dropout(p=0.5, inplace=False)\n",
            "  (output): Linear(in_features=512, out_features=10, bias=True)\n",
            ")\n",
            "Epoch [1/20], Step [25/125]\n",
            "Epoch [1/20], Step [50/125]\n",
            "Epoch [1/20], Step [75/125]\n",
            "Epoch [1/20], Step [100/125]\n",
            "Epoch [1/20], Step [125/125]\n",
            "Finished Training\n",
            "Epoch 1, Training_Accuracy: 10.576322040255032 , Training_Loss: 2.3025791511535645\n",
            "Epoch 1, Validation_Accuracy: 13.3 , Validation_Loss: 2.2967562526464462\n",
            "Epoch [2/20], Step [25/125]\n",
            "Epoch [2/20], Step [50/125]\n",
            "Epoch [2/20], Step [75/125]\n",
            "Epoch [2/20], Step [100/125]\n",
            "Epoch [2/20], Step [125/125]\n",
            "Finished Training\n",
            "Epoch 2, Training_Accuracy: 14.651831478934866 , Training_Loss: 2.2637110443115236\n",
            "Epoch 2, Validation_Accuracy: 18.5 , Validation_Loss: 2.214196003973484\n",
            "Epoch [3/20], Step [25/125]\n",
            "Epoch [3/20], Step [50/125]\n",
            "Epoch [3/20], Step [75/125]\n",
            "Epoch [3/20], Step [100/125]\n",
            "Epoch [3/20], Step [125/125]\n",
            "Finished Training\n",
            "Epoch 3, Training_Accuracy: 17.614701837729715 , Training_Loss: 2.2146454601287844\n",
            "Epoch 3, Validation_Accuracy: 19.2 , Validation_Loss: 2.1926984265446663\n",
            "Epoch [4/20], Step [25/125]\n",
            "Epoch [4/20], Step [50/125]\n",
            "Epoch [4/20], Step [75/125]\n",
            "Epoch [4/20], Step [100/125]\n",
            "Epoch [4/20], Step [125/125]\n",
            "Finished Training\n",
            "Epoch 4, Training_Accuracy: 18.32729091136392 , Training_Loss: 2.207929048538208\n",
            "Epoch 4, Validation_Accuracy: 18.55 , Validation_Loss: 2.192674696445465\n",
            "Epoch [5/20], Step [25/125]\n",
            "Epoch [5/20], Step [50/125]\n",
            "Epoch [5/20], Step [75/125]\n",
            "Epoch [5/20], Step [100/125]\n",
            "Epoch [5/20], Step [125/125]\n",
            "Finished Training\n",
            "Epoch 5, Training_Accuracy: 18.514814351793973 , Training_Loss: 2.2024297008514404\n",
            "Epoch 5, Validation_Accuracy: 19.65 , Validation_Loss: 2.1841214559972286\n",
            "Epoch [6/20], Step [25/125]\n",
            "Epoch [6/20], Step [50/125]\n",
            "Epoch [6/20], Step [75/125]\n",
            "Epoch [6/20], Step [100/125]\n",
            "Epoch [6/20], Step [125/125]\n",
            "Finished Training\n",
            "Epoch 6, Training_Accuracy: 18.277284660582573 , Training_Loss: 2.2000909576416015\n",
            "Epoch 6, Validation_Accuracy: 19.25 , Validation_Loss: 2.18212216719985\n",
            "Epoch [7/20], Step [25/125]\n",
            "Epoch [7/20], Step [50/125]\n",
            "Epoch [7/20], Step [75/125]\n",
            "Epoch [7/20], Step [100/125]\n",
            "Epoch [7/20], Step [125/125]\n",
            "Finished Training\n",
            "Epoch 7, Training_Accuracy: 19.114889361170146 , Training_Loss: 2.1985011005401613\n",
            "Epoch 7, Validation_Accuracy: 18.4 , Validation_Loss: 2.1864706575870514\n",
            "Epoch [8/20], Step [25/125]\n",
            "Epoch [8/20], Step [50/125]\n",
            "Epoch [8/20], Step [75/125]\n",
            "Epoch [8/20], Step [100/125]\n",
            "Epoch [8/20], Step [125/125]\n",
            "Finished Training\n",
            "Epoch 8, Training_Accuracy: 19.089886235779474 , Training_Loss: 2.189915719985962\n",
            "Epoch 8, Validation_Accuracy: 20.2 , Validation_Loss: 2.1743978783488274\n",
            "Epoch [9/20], Step [25/125]\n",
            "Epoch [9/20], Step [50/125]\n",
            "Epoch [9/20], Step [75/125]\n",
            "Epoch [9/20], Step [100/125]\n",
            "Epoch [9/20], Step [125/125]\n",
            "Finished Training\n",
            "Epoch 9, Training_Accuracy: 18.427303412926616 , Training_Loss: 2.186853874206543\n",
            "Epoch 9, Validation_Accuracy: 19.6 , Validation_Loss: 2.177021447569132\n",
            "Epoch [10/20], Step [25/125]\n",
            "Epoch [10/20], Step [50/125]\n",
            "Epoch [10/20], Step [75/125]\n",
            "Epoch [10/20], Step [100/125]\n",
            "Epoch [10/20], Step [125/125]\n",
            "Finished Training\n",
            "Epoch 10, Training_Accuracy: 19.477434679334916 , Training_Loss: 2.183820295333862\n",
            "Epoch 10, Validation_Accuracy: 19.4 , Validation_Loss: 2.177278958261013\n",
            "Epoch [11/20], Step [25/125]\n",
            "Epoch [11/20], Step [50/125]\n",
            "Epoch [11/20], Step [75/125]\n",
            "Epoch [11/20], Step [100/125]\n",
            "Epoch [11/20], Step [125/125]\n",
            "Finished Training\n",
            "Epoch 11, Training_Accuracy: 19.477434679334916 , Training_Loss: 2.182960243225098\n",
            "Epoch 11, Validation_Accuracy: 18.95 , Validation_Loss: 2.1677216701209545\n",
            "Epoch [12/20], Step [25/125]\n",
            "Epoch [12/20], Step [50/125]\n",
            "Epoch [12/20], Step [75/125]\n",
            "Epoch [12/20], Step [100/125]\n",
            "Epoch [12/20], Step [125/125]\n",
            "Finished Training\n",
            "Epoch 12, Training_Accuracy: 19.827478434804352 , Training_Loss: 2.1748248405456545\n",
            "Epoch 12, Validation_Accuracy: 19.35 , Validation_Loss: 2.1693186685442924\n",
            "Epoch [13/20], Step [25/125]\n",
            "Epoch [13/20], Step [50/125]\n",
            "Epoch [13/20], Step [75/125]\n",
            "Epoch [13/20], Step [100/125]\n",
            "Epoch [13/20], Step [125/125]\n",
            "Finished Training\n",
            "Epoch 13, Training_Accuracy: 19.477434679334916 , Training_Loss: 2.1735162601470948\n",
            "Epoch 13, Validation_Accuracy: 19.4 , Validation_Loss: 2.1572283059358597\n",
            "Epoch [14/20], Step [25/125]\n",
            "Epoch [14/20], Step [50/125]\n",
            "Epoch [14/20], Step [75/125]\n",
            "Epoch [14/20], Step [100/125]\n",
            "Epoch [14/20], Step [125/125]\n",
            "Finished Training\n",
            "Epoch 14, Training_Accuracy: 19.58994874359295 , Training_Loss: 2.1725422611236573\n",
            "Epoch 14, Validation_Accuracy: 21.25 , Validation_Loss: 2.153851240873337\n",
            "Epoch [15/20], Step [25/125]\n",
            "Epoch [15/20], Step [50/125]\n",
            "Epoch [15/20], Step [75/125]\n",
            "Epoch [15/20], Step [100/125]\n",
            "Epoch [15/20], Step [125/125]\n",
            "Finished Training\n",
            "Epoch 15, Training_Accuracy: 19.802475309413676 , Training_Loss: 2.166476644515991\n",
            "Epoch 15, Validation_Accuracy: 20.4 , Validation_Loss: 2.1500101052224636\n",
            "Epoch [16/20], Step [25/125]\n",
            "Epoch [16/20], Step [50/125]\n",
            "Epoch [16/20], Step [75/125]\n",
            "Epoch [16/20], Step [100/125]\n",
            "Epoch [16/20], Step [125/125]\n",
            "Finished Training\n",
            "Epoch 16, Training_Accuracy: 20.177522190273784 , Training_Loss: 2.1666503295898436\n",
            "Epoch 16, Validation_Accuracy: 19.6 , Validation_Loss: 2.1518482342362404\n",
            "Epoch [17/20], Step [25/125]\n",
            "Epoch [17/20], Step [50/125]\n",
            "Epoch [17/20], Step [75/125]\n",
            "Epoch [17/20], Step [100/125]\n",
            "Epoch [17/20], Step [125/125]\n",
            "Finished Training\n",
            "Epoch 17, Training_Accuracy: 20.652581572696587 , Training_Loss: 2.157016834259033\n",
            "Epoch 17, Validation_Accuracy: 20.3 , Validation_Loss: 2.1453824415802956\n",
            "Epoch [18/20], Step [25/125]\n",
            "Epoch [18/20], Step [50/125]\n",
            "Epoch [18/20], Step [75/125]\n",
            "Epoch [18/20], Step [100/125]\n",
            "Epoch [18/20], Step [125/125]\n",
            "Finished Training\n",
            "Epoch 18, Training_Accuracy: 20.702587823477934 , Training_Loss: 2.1497086906433105\n",
            "Epoch 18, Validation_Accuracy: 22.1 , Validation_Loss: 2.1405989788472652\n",
            "Epoch [19/20], Step [25/125]\n",
            "Epoch [19/20], Step [50/125]\n",
            "Epoch [19/20], Step [75/125]\n",
            "Epoch [19/20], Step [100/125]\n",
            "Epoch [19/20], Step [125/125]\n",
            "Finished Training\n",
            "Epoch 19, Training_Accuracy: 21.09013626703338 , Training_Loss: 2.151476896286011\n",
            "Epoch 19, Validation_Accuracy: 20.4 , Validation_Loss: 2.141974125057459\n",
            "Epoch [20/20], Step [25/125]\n",
            "Epoch [20/20], Step [50/125]\n",
            "Epoch [20/20], Step [75/125]\n",
            "Epoch [20/20], Step [100/125]\n",
            "Epoch [20/20], Step [125/125]\n",
            "Finished Training\n",
            "Epoch 20, Training_Accuracy: 20.415051881485187 , Training_Loss: 2.150998888015747\n",
            "Epoch 20, Validation_Accuracy: 20.9 , Validation_Loss: 2.13399126753211\n"
          ]
        },
        {
          "output_type": "display_data",
          "data": {
            "text/plain": [
              "<IPython.core.display.HTML object>"
            ],
            "text/html": []
          },
          "metadata": {}
        },
        {
          "output_type": "display_data",
          "data": {
            "text/plain": [
              "<IPython.core.display.HTML object>"
            ],
            "text/html": [
              "<br>    <style><br>        .wandb-row {<br>            display: flex;<br>            flex-direction: row;<br>            flex-wrap: wrap;<br>            justify-content: flex-start;<br>            width: 100%;<br>        }<br>        .wandb-col {<br>            display: flex;<br>            flex-direction: column;<br>            flex-basis: 100%;<br>            flex: 1;<br>            padding: 10px;<br>        }<br>    </style><br><div class=\"wandb-row\"><div class=\"wandb-col\"><h3>Run history:</h3><br/><table class=\"wandb\"><tr><td>Epoch</td><td>▁▁▂▂▂▃▃▄▄▄▅▅▅▆▆▇▇▇██</td></tr><tr><td>Training_Accuracy</td><td>▁▄▆▆▆▆▇▇▆▇▇▇▇▇▇▇████</td></tr><tr><td>Training_Loss</td><td>█▆▄▄▃▃▃▃▃▃▃▂▂▂▂▂▁▁▁▁</td></tr><tr><td>Val_Accuracy</td><td>▁</td></tr><tr><td>Validation_Accuracy</td><td>▁▅▆▅▆▆▅▆▆▆▅▆▆▇▇▆▇█▇▇</td></tr><tr><td>Validation_Loss</td><td>█▄▄▄▃▃▃▃▃▃▂▃▂▂▂▂▁▁▁▁</td></tr></table><br/></div><div class=\"wandb-col\"><h3>Run summary:</h3><br/><table class=\"wandb\"><tr><td>Epoch</td><td>20</td></tr><tr><td>Training_Accuracy</td><td>20.41505</td></tr><tr><td>Training_Loss</td><td>2.151</td></tr><tr><td>Val_Accuracy</td><td>20.9</td></tr><tr><td>Validation_Accuracy</td><td>20.9</td></tr><tr><td>Validation_Loss</td><td>2.13399</td></tr></table><br/></div></div>"
            ]
          },
          "metadata": {}
        },
        {
          "output_type": "display_data",
          "data": {
            "text/plain": [
              "<IPython.core.display.HTML object>"
            ],
            "text/html": [
              " View run <strong style=\"color:#cdcd00\">_nf_32_fo_half_dr_0.5_neu_512_act_GELU_aug_False_norm_False_ep_20</strong> at: <a href='https://wandb.ai/cs24m035-indian-institute-of-technology-madras/CS6910_Assignment2/runs/9rq30i3o' target=\"_blank\">https://wandb.ai/cs24m035-indian-institute-of-technology-madras/CS6910_Assignment2/runs/9rq30i3o</a><br> View project at: <a href='https://wandb.ai/cs24m035-indian-institute-of-technology-madras/CS6910_Assignment2' target=\"_blank\">https://wandb.ai/cs24m035-indian-institute-of-technology-madras/CS6910_Assignment2</a><br>Synced 5 W&B file(s), 0 media file(s), 0 artifact file(s) and 0 other file(s)"
            ]
          },
          "metadata": {}
        },
        {
          "output_type": "display_data",
          "data": {
            "text/plain": [
              "<IPython.core.display.HTML object>"
            ],
            "text/html": [
              "Find logs at: <code>./wandb/run-20250410_170059-9rq30i3o/logs</code>"
            ]
          },
          "metadata": {}
        },
        {
          "output_type": "stream",
          "name": "stderr",
          "text": [
            "\u001b[34m\u001b[1mwandb\u001b[0m: Agent Starting Run: o00ghr5u with config:\n",
            "\u001b[34m\u001b[1mwandb\u001b[0m: \tactivation: GELU\n",
            "\u001b[34m\u001b[1mwandb\u001b[0m: \tbatch_norm: False\n",
            "\u001b[34m\u001b[1mwandb\u001b[0m: \tdata_augmentation: False\n",
            "\u001b[34m\u001b[1mwandb\u001b[0m: \tdropout_rate: 0.2\n",
            "\u001b[34m\u001b[1mwandb\u001b[0m: \tepochs: 10\n",
            "\u001b[34m\u001b[1mwandb\u001b[0m: \tfilter_organisation: double\n",
            "\u001b[34m\u001b[1mwandb\u001b[0m: \tfilter_size: 5\n",
            "\u001b[34m\u001b[1mwandb\u001b[0m: \tnum_filters: 32\n",
            "\u001b[34m\u001b[1mwandb\u001b[0m: \tnum_neurons_dense: 512\n"
          ]
        },
        {
          "output_type": "display_data",
          "data": {
            "text/plain": [
              "<IPython.core.display.HTML object>"
            ],
            "text/html": [
              "Ignoring project 'CS6910_Assignment2' when running a sweep."
            ]
          },
          "metadata": {}
        },
        {
          "output_type": "display_data",
          "data": {
            "text/plain": [
              "<IPython.core.display.HTML object>"
            ],
            "text/html": [
              "Tracking run with wandb version 0.19.9"
            ]
          },
          "metadata": {}
        },
        {
          "output_type": "display_data",
          "data": {
            "text/plain": [
              "<IPython.core.display.HTML object>"
            ],
            "text/html": [
              "Run data is saved locally in <code>/content/wandb/run-20250410_173406-o00ghr5u</code>"
            ]
          },
          "metadata": {}
        },
        {
          "output_type": "display_data",
          "data": {
            "text/plain": [
              "<IPython.core.display.HTML object>"
            ],
            "text/html": [
              "Syncing run <strong><a href='https://wandb.ai/cs24m035-indian-institute-of-technology-madras/CS6910_Assignment2/runs/o00ghr5u' target=\"_blank\">part_A_question2</a></strong> to <a href='https://wandb.ai/cs24m035-indian-institute-of-technology-madras/CS6910_Assignment2' target=\"_blank\">Weights & Biases</a> (<a href='https://wandb.me/developer-guide' target=\"_blank\">docs</a>)<br>Sweep page: <a href='https://wandb.ai/cs24m035-indian-institute-of-technology-madras/CS6910_Assignment2/sweeps/fjduncsb' target=\"_blank\">https://wandb.ai/cs24m035-indian-institute-of-technology-madras/CS6910_Assignment2/sweeps/fjduncsb</a>"
            ]
          },
          "metadata": {}
        },
        {
          "output_type": "display_data",
          "data": {
            "text/plain": [
              "<IPython.core.display.HTML object>"
            ],
            "text/html": [
              " View project at <a href='https://wandb.ai/cs24m035-indian-institute-of-technology-madras/CS6910_Assignment2' target=\"_blank\">https://wandb.ai/cs24m035-indian-institute-of-technology-madras/CS6910_Assignment2</a>"
            ]
          },
          "metadata": {}
        },
        {
          "output_type": "display_data",
          "data": {
            "text/plain": [
              "<IPython.core.display.HTML object>"
            ],
            "text/html": [
              " View sweep at <a href='https://wandb.ai/cs24m035-indian-institute-of-technology-madras/CS6910_Assignment2/sweeps/fjduncsb' target=\"_blank\">https://wandb.ai/cs24m035-indian-institute-of-technology-madras/CS6910_Assignment2/sweeps/fjduncsb</a>"
            ]
          },
          "metadata": {}
        },
        {
          "output_type": "display_data",
          "data": {
            "text/plain": [
              "<IPython.core.display.HTML object>"
            ],
            "text/html": [
              " View run at <a href='https://wandb.ai/cs24m035-indian-institute-of-technology-madras/CS6910_Assignment2/runs/o00ghr5u' target=\"_blank\">https://wandb.ai/cs24m035-indian-institute-of-technology-madras/CS6910_Assignment2/runs/o00ghr5u</a>"
            ]
          },
          "metadata": {}
        },
        {
          "output_type": "stream",
          "name": "stdout",
          "text": [
            "[5, 5, 5, 5, 5]\n",
            "[32, 64, 128, 256, 512]\n",
            "CNN(\n",
            "  (activations): GELU(approximate='none')\n",
            "  (dense_activation): GELU(approximate='none')\n",
            "  (conv_layers): ModuleList(\n",
            "    (0): Conv2d(3, 32, kernel_size=(5, 5), stride=(1, 1))\n",
            "    (1): GELU(approximate='none')\n",
            "    (2): MaxPool2d(kernel_size=2, stride=2, padding=0, dilation=1, ceil_mode=False)\n",
            "    (3): Conv2d(32, 64, kernel_size=(5, 5), stride=(1, 1))\n",
            "    (4): GELU(approximate='none')\n",
            "    (5): MaxPool2d(kernel_size=2, stride=2, padding=0, dilation=1, ceil_mode=False)\n",
            "    (6): Conv2d(64, 128, kernel_size=(5, 5), stride=(1, 1))\n",
            "    (7): GELU(approximate='none')\n",
            "    (8): MaxPool2d(kernel_size=2, stride=2, padding=0, dilation=1, ceil_mode=False)\n",
            "    (9): Conv2d(128, 256, kernel_size=(5, 5), stride=(1, 1))\n",
            "    (10): GELU(approximate='none')\n",
            "    (11): MaxPool2d(kernel_size=2, stride=2, padding=0, dilation=1, ceil_mode=False)\n",
            "    (12): Conv2d(256, 512, kernel_size=(5, 5), stride=(1, 1))\n",
            "    (13): GELU(approximate='none')\n",
            "    (14): MaxPool2d(kernel_size=2, stride=2, padding=0, dilation=1, ceil_mode=False)\n",
            "  )\n",
            "  (dense): Linear(in_features=4608, out_features=512, bias=True)\n",
            "  (bn): BatchNorm2d(512, eps=0.001, momentum=0.1, affine=True, track_running_stats=True)\n",
            "  (dropout): Dropout(p=0.2, inplace=False)\n",
            "  (output): Linear(in_features=512, out_features=10, bias=True)\n",
            ")\n",
            "Epoch [1/10], Step [25/125]\n",
            "Epoch [1/10], Step [50/125]\n",
            "Epoch [1/10], Step [75/125]\n",
            "Epoch [1/10], Step [100/125]\n",
            "Epoch [1/10], Step [125/125]\n",
            "Finished Training\n",
            "Epoch 1, Training_Accuracy: 17.339667458432302 , Training_Loss: 2.2242667636871336\n",
            "Epoch 1, Validation_Accuracy: 20.4 , Validation_Loss: 2.1700026467442513\n",
            "Epoch [2/10], Step [25/125]\n",
            "Epoch [2/10], Step [50/125]\n",
            "Epoch [2/10], Step [75/125]\n",
            "Epoch [2/10], Step [100/125]\n",
            "Epoch [2/10], Step [125/125]\n",
            "Finished Training\n",
            "Epoch 2, Training_Accuracy: 21.827728466058257 , Training_Loss: 2.1454710092544556\n",
            "Epoch 2, Validation_Accuracy: 23.0 , Validation_Loss: 2.0966388694941998\n",
            "Epoch [3/10], Step [25/125]\n",
            "Epoch [3/10], Step [50/125]\n",
            "Epoch [3/10], Step [75/125]\n",
            "Epoch [3/10], Step [100/125]\n",
            "Epoch [3/10], Step [125/125]\n",
            "Finished Training\n",
            "Epoch 3, Training_Accuracy: 24.74059257407176 , Training_Loss: 2.104155312538147\n",
            "Epoch 3, Validation_Accuracy: 26.6 , Validation_Loss: 2.0488734543323517\n",
            "Epoch [4/10], Step [25/125]\n",
            "Epoch [4/10], Step [50/125]\n",
            "Epoch [4/10], Step [75/125]\n",
            "Epoch [4/10], Step [100/125]\n",
            "Epoch [4/10], Step [125/125]\n",
            "Finished Training\n",
            "Epoch 4, Training_Accuracy: 25.853231653956744 , Training_Loss: 2.065227038383484\n",
            "Epoch 4, Validation_Accuracy: 28.15 , Validation_Loss: 2.0123853012919426\n",
            "Epoch [5/10], Step [25/125]\n",
            "Epoch [5/10], Step [50/125]\n",
            "Epoch [5/10], Step [75/125]\n",
            "Epoch [5/10], Step [100/125]\n",
            "Epoch [5/10], Step [125/125]\n",
            "Finished Training\n",
            "Epoch 5, Training_Accuracy: 26.92836604575572 , Training_Loss: 2.0395843572616577\n",
            "Epoch 5, Validation_Accuracy: 29.15 , Validation_Loss: 1.985704731196165\n",
            "Epoch [6/10], Step [25/125]\n",
            "Epoch [6/10], Step [50/125]\n",
            "Epoch [6/10], Step [75/125]\n",
            "Epoch [6/10], Step [100/125]\n",
            "Epoch [6/10], Step [125/125]\n",
            "Finished Training\n",
            "Epoch 6, Training_Accuracy: 27.990998874859358 , Training_Loss: 2.01048184967041\n",
            "Epoch 6, Validation_Accuracy: 31.3 , Validation_Loss: 1.940197553485632\n",
            "Epoch [7/10], Step [25/125]\n",
            "Epoch [7/10], Step [50/125]\n",
            "Epoch [7/10], Step [75/125]\n",
            "Epoch [7/10], Step [100/125]\n",
            "Epoch [7/10], Step [125/125]\n",
            "Finished Training\n",
            "Epoch 7, Training_Accuracy: 29.141142642830353 , Training_Loss: 1.9855566244125367\n",
            "Epoch 7, Validation_Accuracy: 31.0 , Validation_Loss: 1.933108601719141\n",
            "Epoch [8/10], Step [25/125]\n",
            "Epoch [8/10], Step [50/125]\n",
            "Epoch [8/10], Step [75/125]\n",
            "Epoch [8/10], Step [100/125]\n",
            "Epoch [8/10], Step [125/125]\n",
            "Finished Training\n",
            "Epoch 8, Training_Accuracy: 30.3412926615827 , Training_Loss: 1.9577181615829469\n",
            "Epoch 8, Validation_Accuracy: 31.3 , Validation_Loss: 1.912246372550726\n",
            "Epoch [9/10], Step [25/125]\n",
            "Epoch [9/10], Step [50/125]\n",
            "Epoch [9/10], Step [75/125]\n",
            "Epoch [9/10], Step [100/125]\n",
            "Epoch [9/10], Step [125/125]\n",
            "Finished Training\n",
            "Epoch 9, Training_Accuracy: 30.94136767095887 , Training_Loss: 1.9430961284637451\n",
            "Epoch 9, Validation_Accuracy: 33.1 , Validation_Loss: 1.8920598216354847\n",
            "Epoch [10/10], Step [25/125]\n",
            "Epoch [10/10], Step [50/125]\n",
            "Epoch [10/10], Step [75/125]\n",
            "Epoch [10/10], Step [100/125]\n",
            "Epoch [10/10], Step [125/125]\n",
            "Finished Training\n",
            "Epoch 10, Training_Accuracy: 31.316414551818976 , Training_Loss: 1.9331815738677978\n",
            "Epoch 10, Validation_Accuracy: 33.2 , Validation_Loss: 1.8849965445697308\n"
          ]
        },
        {
          "output_type": "display_data",
          "data": {
            "text/plain": [
              "<IPython.core.display.HTML object>"
            ],
            "text/html": []
          },
          "metadata": {}
        },
        {
          "output_type": "display_data",
          "data": {
            "text/plain": [
              "<IPython.core.display.HTML object>"
            ],
            "text/html": [
              "<br>    <style><br>        .wandb-row {<br>            display: flex;<br>            flex-direction: row;<br>            flex-wrap: wrap;<br>            justify-content: flex-start;<br>            width: 100%;<br>        }<br>        .wandb-col {<br>            display: flex;<br>            flex-direction: column;<br>            flex-basis: 100%;<br>            flex: 1;<br>            padding: 10px;<br>        }<br>    </style><br><div class=\"wandb-row\"><div class=\"wandb-col\"><h3>Run history:</h3><br/><table class=\"wandb\"><tr><td>Epoch</td><td>▁▂▃▃▄▅▆▆▇█</td></tr><tr><td>Training_Accuracy</td><td>▁▃▅▅▆▆▇███</td></tr><tr><td>Training_Loss</td><td>█▆▅▄▄▃▂▂▁▁</td></tr><tr><td>Val_Accuracy</td><td>▁</td></tr><tr><td>Validation_Accuracy</td><td>▁▂▄▅▆▇▇▇██</td></tr><tr><td>Validation_Loss</td><td>█▆▅▄▃▂▂▂▁▁</td></tr></table><br/></div><div class=\"wandb-col\"><h3>Run summary:</h3><br/><table class=\"wandb\"><tr><td>Epoch</td><td>10</td></tr><tr><td>Training_Accuracy</td><td>31.31641</td></tr><tr><td>Training_Loss</td><td>1.93318</td></tr><tr><td>Val_Accuracy</td><td>33.2</td></tr><tr><td>Validation_Accuracy</td><td>33.2</td></tr><tr><td>Validation_Loss</td><td>1.885</td></tr></table><br/></div></div>"
            ]
          },
          "metadata": {}
        },
        {
          "output_type": "display_data",
          "data": {
            "text/plain": [
              "<IPython.core.display.HTML object>"
            ],
            "text/html": [
              " View run <strong style=\"color:#cdcd00\">_nf_32_fo_double_dr_0.2_neu_512_act_GELU_aug_False_norm_False_ep_10</strong> at: <a href='https://wandb.ai/cs24m035-indian-institute-of-technology-madras/CS6910_Assignment2/runs/o00ghr5u' target=\"_blank\">https://wandb.ai/cs24m035-indian-institute-of-technology-madras/CS6910_Assignment2/runs/o00ghr5u</a><br> View project at: <a href='https://wandb.ai/cs24m035-indian-institute-of-technology-madras/CS6910_Assignment2' target=\"_blank\">https://wandb.ai/cs24m035-indian-institute-of-technology-madras/CS6910_Assignment2</a><br>Synced 5 W&B file(s), 0 media file(s), 0 artifact file(s) and 0 other file(s)"
            ]
          },
          "metadata": {}
        },
        {
          "output_type": "display_data",
          "data": {
            "text/plain": [
              "<IPython.core.display.HTML object>"
            ],
            "text/html": [
              "Find logs at: <code>./wandb/run-20250410_173406-o00ghr5u/logs</code>"
            ]
          },
          "metadata": {}
        },
        {
          "output_type": "stream",
          "name": "stderr",
          "text": [
            "\u001b[34m\u001b[1mwandb\u001b[0m: Agent Starting Run: v1mrr3ir with config:\n",
            "\u001b[34m\u001b[1mwandb\u001b[0m: \tactivation: LeakyReLU\n",
            "\u001b[34m\u001b[1mwandb\u001b[0m: \tbatch_norm: True\n",
            "\u001b[34m\u001b[1mwandb\u001b[0m: \tdata_augmentation: False\n",
            "\u001b[34m\u001b[1mwandb\u001b[0m: \tdropout_rate: 0.2\n",
            "\u001b[34m\u001b[1mwandb\u001b[0m: \tepochs: 10\n",
            "\u001b[34m\u001b[1mwandb\u001b[0m: \tfilter_organisation: same\n",
            "\u001b[34m\u001b[1mwandb\u001b[0m: \tfilter_size: 5\n",
            "\u001b[34m\u001b[1mwandb\u001b[0m: \tnum_filters: 32\n",
            "\u001b[34m\u001b[1mwandb\u001b[0m: \tnum_neurons_dense: 512\n"
          ]
        },
        {
          "output_type": "display_data",
          "data": {
            "text/plain": [
              "<IPython.core.display.HTML object>"
            ],
            "text/html": [
              "Ignoring project 'CS6910_Assignment2' when running a sweep."
            ]
          },
          "metadata": {}
        },
        {
          "output_type": "display_data",
          "data": {
            "text/plain": [
              "<IPython.core.display.HTML object>"
            ],
            "text/html": [
              "Tracking run with wandb version 0.19.9"
            ]
          },
          "metadata": {}
        },
        {
          "output_type": "display_data",
          "data": {
            "text/plain": [
              "<IPython.core.display.HTML object>"
            ],
            "text/html": [
              "Run data is saved locally in <code>/content/wandb/run-20250410_175056-v1mrr3ir</code>"
            ]
          },
          "metadata": {}
        },
        {
          "output_type": "display_data",
          "data": {
            "text/plain": [
              "<IPython.core.display.HTML object>"
            ],
            "text/html": [
              "Syncing run <strong><a href='https://wandb.ai/cs24m035-indian-institute-of-technology-madras/CS6910_Assignment2/runs/v1mrr3ir' target=\"_blank\">part_A_question2</a></strong> to <a href='https://wandb.ai/cs24m035-indian-institute-of-technology-madras/CS6910_Assignment2' target=\"_blank\">Weights & Biases</a> (<a href='https://wandb.me/developer-guide' target=\"_blank\">docs</a>)<br>Sweep page: <a href='https://wandb.ai/cs24m035-indian-institute-of-technology-madras/CS6910_Assignment2/sweeps/fjduncsb' target=\"_blank\">https://wandb.ai/cs24m035-indian-institute-of-technology-madras/CS6910_Assignment2/sweeps/fjduncsb</a>"
            ]
          },
          "metadata": {}
        },
        {
          "output_type": "display_data",
          "data": {
            "text/plain": [
              "<IPython.core.display.HTML object>"
            ],
            "text/html": [
              " View project at <a href='https://wandb.ai/cs24m035-indian-institute-of-technology-madras/CS6910_Assignment2' target=\"_blank\">https://wandb.ai/cs24m035-indian-institute-of-technology-madras/CS6910_Assignment2</a>"
            ]
          },
          "metadata": {}
        },
        {
          "output_type": "display_data",
          "data": {
            "text/plain": [
              "<IPython.core.display.HTML object>"
            ],
            "text/html": [
              " View sweep at <a href='https://wandb.ai/cs24m035-indian-institute-of-technology-madras/CS6910_Assignment2/sweeps/fjduncsb' target=\"_blank\">https://wandb.ai/cs24m035-indian-institute-of-technology-madras/CS6910_Assignment2/sweeps/fjduncsb</a>"
            ]
          },
          "metadata": {}
        },
        {
          "output_type": "display_data",
          "data": {
            "text/plain": [
              "<IPython.core.display.HTML object>"
            ],
            "text/html": [
              " View run at <a href='https://wandb.ai/cs24m035-indian-institute-of-technology-madras/CS6910_Assignment2/runs/v1mrr3ir' target=\"_blank\">https://wandb.ai/cs24m035-indian-institute-of-technology-madras/CS6910_Assignment2/runs/v1mrr3ir</a>"
            ]
          },
          "metadata": {}
        },
        {
          "output_type": "stream",
          "name": "stdout",
          "text": [
            "[5, 5, 5, 5, 5]\n",
            "[32, 32, 32, 32, 32]\n",
            "CNN(\n",
            "  (activations): LeakyReLU(negative_slope=0.01)\n",
            "  (dense_activation): LeakyReLU(negative_slope=0.01)\n",
            "  (conv_layers): ModuleList(\n",
            "    (0): Conv2d(3, 32, kernel_size=(5, 5), stride=(1, 1))\n",
            "    (1): BatchNorm2d(32, eps=0.001, momentum=0.1, affine=True, track_running_stats=True)\n",
            "    (2): LeakyReLU(negative_slope=0.01)\n",
            "    (3): MaxPool2d(kernel_size=2, stride=2, padding=0, dilation=1, ceil_mode=False)\n",
            "    (4): Conv2d(32, 32, kernel_size=(5, 5), stride=(1, 1))\n",
            "    (5): BatchNorm2d(32, eps=0.001, momentum=0.1, affine=True, track_running_stats=True)\n",
            "    (6): LeakyReLU(negative_slope=0.01)\n",
            "    (7): MaxPool2d(kernel_size=2, stride=2, padding=0, dilation=1, ceil_mode=False)\n",
            "    (8): Conv2d(32, 32, kernel_size=(5, 5), stride=(1, 1))\n",
            "    (9): BatchNorm2d(32, eps=0.001, momentum=0.1, affine=True, track_running_stats=True)\n",
            "    (10): LeakyReLU(negative_slope=0.01)\n",
            "    (11): MaxPool2d(kernel_size=2, stride=2, padding=0, dilation=1, ceil_mode=False)\n",
            "    (12): Conv2d(32, 32, kernel_size=(5, 5), stride=(1, 1))\n",
            "    (13): BatchNorm2d(32, eps=0.001, momentum=0.1, affine=True, track_running_stats=True)\n",
            "    (14): LeakyReLU(negative_slope=0.01)\n",
            "    (15): MaxPool2d(kernel_size=2, stride=2, padding=0, dilation=1, ceil_mode=False)\n",
            "    (16): Conv2d(32, 32, kernel_size=(5, 5), stride=(1, 1))\n",
            "    (17): BatchNorm2d(32, eps=0.001, momentum=0.1, affine=True, track_running_stats=True)\n",
            "    (18): LeakyReLU(negative_slope=0.01)\n",
            "    (19): MaxPool2d(kernel_size=2, stride=2, padding=0, dilation=1, ceil_mode=False)\n",
            "  )\n",
            "  (dense): Linear(in_features=288, out_features=512, bias=True)\n",
            "  (bn): BatchNorm2d(512, eps=0.001, momentum=0.1, affine=True, track_running_stats=True)\n",
            "  (dropout): Dropout(p=0.2, inplace=False)\n",
            "  (output): Linear(in_features=512, out_features=10, bias=True)\n",
            ")\n",
            "Epoch [1/10], Step [25/125]\n",
            "Epoch [1/10], Step [50/125]\n",
            "Epoch [1/10], Step [75/125]\n",
            "Epoch [1/10], Step [100/125]\n",
            "Epoch [1/10], Step [125/125]\n",
            "Finished Training\n",
            "Epoch 1, Training_Accuracy: 17.689711213901738 , Training_Loss: 2.215858341217041\n",
            "Epoch 1, Validation_Accuracy: 22.6 , Validation_Loss: 2.1343726105988026\n",
            "Epoch [2/10], Step [25/125]\n",
            "Epoch [2/10], Step [50/125]\n",
            "Epoch [2/10], Step [75/125]\n",
            "Epoch [2/10], Step [100/125]\n",
            "Epoch [2/10], Step [125/125]\n",
            "Finished Training\n",
            "Epoch 2, Training_Accuracy: 22.50281285160645 , Training_Loss: 2.1296223697662353\n",
            "Epoch 2, Validation_Accuracy: 24.5 , Validation_Loss: 2.0716432593762875\n",
            "Epoch [3/10], Step [25/125]\n",
            "Epoch [3/10], Step [50/125]\n",
            "Epoch [3/10], Step [75/125]\n",
            "Epoch [3/10], Step [100/125]\n",
            "Epoch [3/10], Step [125/125]\n",
            "Finished Training\n",
            "Epoch 3, Training_Accuracy: 24.753094136767096 , Training_Loss: 2.085595332145691\n",
            "Epoch 3, Validation_Accuracy: 26.55 , Validation_Loss: 2.0313560105860233\n",
            "Epoch [4/10], Step [25/125]\n",
            "Epoch [4/10], Step [50/125]\n",
            "Epoch [4/10], Step [75/125]\n",
            "Epoch [4/10], Step [100/125]\n",
            "Epoch [4/10], Step [125/125]\n",
            "Finished Training\n",
            "Epoch 4, Training_Accuracy: 26.92836604575572 , Training_Loss: 2.049444363594055\n",
            "Epoch 4, Validation_Accuracy: 28.0 , Validation_Loss: 1.991696186363697\n",
            "Epoch [5/10], Step [25/125]\n",
            "Epoch [5/10], Step [50/125]\n",
            "Epoch [5/10], Step [75/125]\n",
            "Epoch [5/10], Step [100/125]\n",
            "Epoch [5/10], Step [125/125]\n",
            "Finished Training\n",
            "Epoch 5, Training_Accuracy: 27.715964495561945 , Training_Loss: 2.022356848716736\n",
            "Epoch 5, Validation_Accuracy: 29.7 , Validation_Loss: 1.9662188030779362\n",
            "Epoch [6/10], Step [25/125]\n",
            "Epoch [6/10], Step [50/125]\n",
            "Epoch [6/10], Step [75/125]\n",
            "Epoch [6/10], Step [100/125]\n",
            "Epoch [6/10], Step [125/125]\n",
            "Finished Training\n",
            "Epoch 6, Training_Accuracy: 28.741092636579573 , Training_Loss: 1.9965401268005372\n",
            "Epoch 6, Validation_Accuracy: 29.9 , Validation_Loss: 1.9568240568041801\n",
            "Epoch [7/10], Step [25/125]\n",
            "Epoch [7/10], Step [50/125]\n",
            "Epoch [7/10], Step [75/125]\n",
            "Epoch [7/10], Step [100/125]\n",
            "Epoch [7/10], Step [125/125]\n",
            "Finished Training\n",
            "Epoch 7, Training_Accuracy: 29.216152019002376 , Training_Loss: 1.9703481884002685\n",
            "Epoch 7, Validation_Accuracy: 30.9 , Validation_Loss: 1.9053196534514427\n",
            "Epoch [8/10], Step [25/125]\n",
            "Epoch [8/10], Step [50/125]\n",
            "Epoch [8/10], Step [75/125]\n",
            "Epoch [8/10], Step [100/125]\n",
            "Epoch [8/10], Step [125/125]\n",
            "Finished Training\n",
            "Epoch 8, Training_Accuracy: 29.866233279159896 , Training_Loss: 1.958472107887268\n",
            "Epoch 8, Validation_Accuracy: 32.45 , Validation_Loss: 1.9021992571651936\n",
            "Epoch [9/10], Step [25/125]\n",
            "Epoch [9/10], Step [50/125]\n",
            "Epoch [9/10], Step [75/125]\n",
            "Epoch [9/10], Step [100/125]\n",
            "Epoch [9/10], Step [125/125]\n",
            "Finished Training\n",
            "Epoch 9, Training_Accuracy: 31.728966120765097 , Training_Loss: 1.9350350332260131\n",
            "Epoch 9, Validation_Accuracy: 30.15 , Validation_Loss: 1.9645721055567265\n",
            "Epoch [10/10], Step [25/125]\n",
            "Epoch [10/10], Step [50/125]\n",
            "Epoch [10/10], Step [75/125]\n",
            "Epoch [10/10], Step [100/125]\n",
            "Epoch [10/10], Step [125/125]\n",
            "Finished Training\n",
            "Epoch 10, Training_Accuracy: 31.59144893111639 , Training_Loss: 1.9241381855010986\n",
            "Epoch 10, Validation_Accuracy: 34.35 , Validation_Loss: 1.8574397042393684\n"
          ]
        },
        {
          "output_type": "display_data",
          "data": {
            "text/plain": [
              "<IPython.core.display.HTML object>"
            ],
            "text/html": []
          },
          "metadata": {}
        },
        {
          "output_type": "display_data",
          "data": {
            "text/plain": [
              "<IPython.core.display.HTML object>"
            ],
            "text/html": [
              "<br>    <style><br>        .wandb-row {<br>            display: flex;<br>            flex-direction: row;<br>            flex-wrap: wrap;<br>            justify-content: flex-start;<br>            width: 100%;<br>        }<br>        .wandb-col {<br>            display: flex;<br>            flex-direction: column;<br>            flex-basis: 100%;<br>            flex: 1;<br>            padding: 10px;<br>        }<br>    </style><br><div class=\"wandb-row\"><div class=\"wandb-col\"><h3>Run history:</h3><br/><table class=\"wandb\"><tr><td>Epoch</td><td>▁▂▃▃▄▅▆▆▇█</td></tr><tr><td>Training_Accuracy</td><td>▁▃▅▆▆▇▇▇██</td></tr><tr><td>Training_Loss</td><td>█▆▅▄▃▃▂▂▁▁</td></tr><tr><td>Val_Accuracy</td><td>▁</td></tr><tr><td>Validation_Accuracy</td><td>▁▂▃▄▅▅▆▇▅█</td></tr><tr><td>Validation_Loss</td><td>█▆▅▄▄▄▂▂▄▁</td></tr></table><br/></div><div class=\"wandb-col\"><h3>Run summary:</h3><br/><table class=\"wandb\"><tr><td>Epoch</td><td>10</td></tr><tr><td>Training_Accuracy</td><td>31.59145</td></tr><tr><td>Training_Loss</td><td>1.92414</td></tr><tr><td>Val_Accuracy</td><td>34.35</td></tr><tr><td>Validation_Accuracy</td><td>34.35</td></tr><tr><td>Validation_Loss</td><td>1.85744</td></tr></table><br/></div></div>"
            ]
          },
          "metadata": {}
        },
        {
          "output_type": "display_data",
          "data": {
            "text/plain": [
              "<IPython.core.display.HTML object>"
            ],
            "text/html": [
              " View run <strong style=\"color:#cdcd00\">_nf_32_fo_same_dr_0.2_neu_512_act_LeakyReLU_aug_False_norm_True_ep_10</strong> at: <a href='https://wandb.ai/cs24m035-indian-institute-of-technology-madras/CS6910_Assignment2/runs/v1mrr3ir' target=\"_blank\">https://wandb.ai/cs24m035-indian-institute-of-technology-madras/CS6910_Assignment2/runs/v1mrr3ir</a><br> View project at: <a href='https://wandb.ai/cs24m035-indian-institute-of-technology-madras/CS6910_Assignment2' target=\"_blank\">https://wandb.ai/cs24m035-indian-institute-of-technology-madras/CS6910_Assignment2</a><br>Synced 5 W&B file(s), 0 media file(s), 0 artifact file(s) and 0 other file(s)"
            ]
          },
          "metadata": {}
        },
        {
          "output_type": "display_data",
          "data": {
            "text/plain": [
              "<IPython.core.display.HTML object>"
            ],
            "text/html": [
              "Find logs at: <code>./wandb/run-20250410_175056-v1mrr3ir/logs</code>"
            ]
          },
          "metadata": {}
        },
        {
          "output_type": "stream",
          "name": "stderr",
          "text": [
            "\u001b[34m\u001b[1mwandb\u001b[0m: Agent Starting Run: dqfow70j with config:\n",
            "\u001b[34m\u001b[1mwandb\u001b[0m: \tactivation: LeakyReLU\n",
            "\u001b[34m\u001b[1mwandb\u001b[0m: \tbatch_norm: False\n",
            "\u001b[34m\u001b[1mwandb\u001b[0m: \tdata_augmentation: False\n",
            "\u001b[34m\u001b[1mwandb\u001b[0m: \tdropout_rate: 0.2\n",
            "\u001b[34m\u001b[1mwandb\u001b[0m: \tepochs: 10\n",
            "\u001b[34m\u001b[1mwandb\u001b[0m: \tfilter_organisation: double\n",
            "\u001b[34m\u001b[1mwandb\u001b[0m: \tfilter_size: 3\n",
            "\u001b[34m\u001b[1mwandb\u001b[0m: \tnum_filters: 32\n",
            "\u001b[34m\u001b[1mwandb\u001b[0m: \tnum_neurons_dense: 512\n"
          ]
        },
        {
          "output_type": "display_data",
          "data": {
            "text/plain": [
              "<IPython.core.display.HTML object>"
            ],
            "text/html": [
              "Ignoring project 'CS6910_Assignment2' when running a sweep."
            ]
          },
          "metadata": {}
        },
        {
          "output_type": "display_data",
          "data": {
            "text/plain": [
              "<IPython.core.display.HTML object>"
            ],
            "text/html": [
              "Tracking run with wandb version 0.19.9"
            ]
          },
          "metadata": {}
        },
        {
          "output_type": "display_data",
          "data": {
            "text/plain": [
              "<IPython.core.display.HTML object>"
            ],
            "text/html": [
              "Run data is saved locally in <code>/content/wandb/run-20250410_180724-dqfow70j</code>"
            ]
          },
          "metadata": {}
        },
        {
          "output_type": "display_data",
          "data": {
            "text/plain": [
              "<IPython.core.display.HTML object>"
            ],
            "text/html": [
              "Syncing run <strong><a href='https://wandb.ai/cs24m035-indian-institute-of-technology-madras/CS6910_Assignment2/runs/dqfow70j' target=\"_blank\">part_A_question2</a></strong> to <a href='https://wandb.ai/cs24m035-indian-institute-of-technology-madras/CS6910_Assignment2' target=\"_blank\">Weights & Biases</a> (<a href='https://wandb.me/developer-guide' target=\"_blank\">docs</a>)<br>Sweep page: <a href='https://wandb.ai/cs24m035-indian-institute-of-technology-madras/CS6910_Assignment2/sweeps/fjduncsb' target=\"_blank\">https://wandb.ai/cs24m035-indian-institute-of-technology-madras/CS6910_Assignment2/sweeps/fjduncsb</a>"
            ]
          },
          "metadata": {}
        },
        {
          "output_type": "display_data",
          "data": {
            "text/plain": [
              "<IPython.core.display.HTML object>"
            ],
            "text/html": [
              " View project at <a href='https://wandb.ai/cs24m035-indian-institute-of-technology-madras/CS6910_Assignment2' target=\"_blank\">https://wandb.ai/cs24m035-indian-institute-of-technology-madras/CS6910_Assignment2</a>"
            ]
          },
          "metadata": {}
        },
        {
          "output_type": "display_data",
          "data": {
            "text/plain": [
              "<IPython.core.display.HTML object>"
            ],
            "text/html": [
              " View sweep at <a href='https://wandb.ai/cs24m035-indian-institute-of-technology-madras/CS6910_Assignment2/sweeps/fjduncsb' target=\"_blank\">https://wandb.ai/cs24m035-indian-institute-of-technology-madras/CS6910_Assignment2/sweeps/fjduncsb</a>"
            ]
          },
          "metadata": {}
        },
        {
          "output_type": "display_data",
          "data": {
            "text/plain": [
              "<IPython.core.display.HTML object>"
            ],
            "text/html": [
              " View run at <a href='https://wandb.ai/cs24m035-indian-institute-of-technology-madras/CS6910_Assignment2/runs/dqfow70j' target=\"_blank\">https://wandb.ai/cs24m035-indian-institute-of-technology-madras/CS6910_Assignment2/runs/dqfow70j</a>"
            ]
          },
          "metadata": {}
        },
        {
          "output_type": "stream",
          "name": "stdout",
          "text": [
            "[3, 3, 3, 3, 3]\n",
            "[32, 64, 128, 256, 512]\n",
            "CNN(\n",
            "  (activations): LeakyReLU(negative_slope=0.01)\n",
            "  (dense_activation): LeakyReLU(negative_slope=0.01)\n",
            "  (conv_layers): ModuleList(\n",
            "    (0): Conv2d(3, 32, kernel_size=(3, 3), stride=(1, 1))\n",
            "    (1): LeakyReLU(negative_slope=0.01)\n",
            "    (2): MaxPool2d(kernel_size=2, stride=2, padding=0, dilation=1, ceil_mode=False)\n",
            "    (3): Conv2d(32, 64, kernel_size=(3, 3), stride=(1, 1))\n",
            "    (4): LeakyReLU(negative_slope=0.01)\n",
            "    (5): MaxPool2d(kernel_size=2, stride=2, padding=0, dilation=1, ceil_mode=False)\n",
            "    (6): Conv2d(64, 128, kernel_size=(3, 3), stride=(1, 1))\n",
            "    (7): LeakyReLU(negative_slope=0.01)\n",
            "    (8): MaxPool2d(kernel_size=2, stride=2, padding=0, dilation=1, ceil_mode=False)\n",
            "    (9): Conv2d(128, 256, kernel_size=(3, 3), stride=(1, 1))\n",
            "    (10): LeakyReLU(negative_slope=0.01)\n",
            "    (11): MaxPool2d(kernel_size=2, stride=2, padding=0, dilation=1, ceil_mode=False)\n",
            "    (12): Conv2d(256, 512, kernel_size=(3, 3), stride=(1, 1))\n",
            "    (13): LeakyReLU(negative_slope=0.01)\n",
            "    (14): MaxPool2d(kernel_size=2, stride=2, padding=0, dilation=1, ceil_mode=False)\n",
            "  )\n",
            "  (dense): Linear(in_features=12800, out_features=512, bias=True)\n",
            "  (bn): BatchNorm2d(512, eps=0.001, momentum=0.1, affine=True, track_running_stats=True)\n",
            "  (dropout): Dropout(p=0.2, inplace=False)\n",
            "  (output): Linear(in_features=512, out_features=10, bias=True)\n",
            ")\n",
            "Epoch [1/10], Step [25/125]\n",
            "Epoch [1/10], Step [50/125]\n",
            "Epoch [1/10], Step [75/125]\n",
            "Epoch [1/10], Step [100/125]\n",
            "Epoch [1/10], Step [125/125]\n",
            "Finished Training\n",
            "Epoch 1, Training_Accuracy: 16.764595574446805 , Training_Loss: 2.228796104431152\n",
            "Epoch 1, Validation_Accuracy: 22.15 , Validation_Loss: 2.1474564112722874\n",
            "Epoch [2/10], Step [25/125]\n",
            "Epoch [2/10], Step [50/125]\n",
            "Epoch [2/10], Step [75/125]\n",
            "Epoch [2/10], Step [100/125]\n",
            "Epoch [2/10], Step [125/125]\n",
            "Finished Training\n",
            "Epoch 2, Training_Accuracy: 23.202900362545318 , Training_Loss: 2.1179643688201906\n",
            "Epoch 2, Validation_Accuracy: 25.75 , Validation_Loss: 2.061934571713209\n",
            "Epoch [3/10], Step [25/125]\n",
            "Epoch [3/10], Step [50/125]\n",
            "Epoch [3/10], Step [75/125]\n",
            "Epoch [3/10], Step [100/125]\n",
            "Epoch [3/10], Step [125/125]\n",
            "Finished Training\n",
            "Epoch 3, Training_Accuracy: 26.44080510063758 , Training_Loss: 2.066311855316162\n",
            "Epoch 3, Validation_Accuracy: 28.25 , Validation_Loss: 1.9932020790874958\n",
            "Epoch [4/10], Step [25/125]\n",
            "Epoch [4/10], Step [50/125]\n",
            "Epoch [4/10], Step [75/125]\n",
            "Epoch [4/10], Step [100/125]\n",
            "Epoch [4/10], Step [125/125]\n",
            "Finished Training\n",
            "Epoch 4, Training_Accuracy: 27.315914489311165 , Training_Loss: 2.029515305519104\n",
            "Epoch 4, Validation_Accuracy: 30.25 , Validation_Loss: 1.9522597081959248\n",
            "Epoch [5/10], Step [25/125]\n",
            "Epoch [5/10], Step [50/125]\n",
            "Epoch [5/10], Step [75/125]\n",
            "Epoch [5/10], Step [100/125]\n",
            "Epoch [5/10], Step [125/125]\n",
            "Finished Training\n",
            "Epoch 5, Training_Accuracy: 28.778597324665583 , Training_Loss: 1.993033480644226\n",
            "Epoch 5, Validation_Accuracy: 31.95 , Validation_Loss: 1.928415559232235\n",
            "Epoch [6/10], Step [25/125]\n",
            "Epoch [6/10], Step [50/125]\n",
            "Epoch [6/10], Step [75/125]\n",
            "Epoch [6/10], Step [100/125]\n",
            "Epoch [6/10], Step [125/125]\n",
            "Finished Training\n",
            "Epoch 6, Training_Accuracy: 30.766345793224154 , Training_Loss: 1.953384241104126\n",
            "Epoch 6, Validation_Accuracy: 31.4 , Validation_Loss: 1.9138179458677769\n",
            "Epoch [7/10], Step [25/125]\n",
            "Epoch [7/10], Step [50/125]\n",
            "Epoch [7/10], Step [75/125]\n",
            "Epoch [7/10], Step [100/125]\n",
            "Epoch [7/10], Step [125/125]\n",
            "Finished Training\n",
            "Epoch 7, Training_Accuracy: 30.66633329166146 , Training_Loss: 1.9434927520751952\n",
            "Epoch 7, Validation_Accuracy: 31.5 , Validation_Loss: 1.9014886915683746\n",
            "Epoch [8/10], Step [25/125]\n",
            "Epoch [8/10], Step [50/125]\n",
            "Epoch [8/10], Step [75/125]\n",
            "Epoch [8/10], Step [100/125]\n",
            "Epoch [8/10], Step [125/125]\n",
            "Finished Training\n",
            "Epoch 8, Training_Accuracy: 31.616452056507065 , Training_Loss: 1.9170752897262573\n",
            "Epoch 8, Validation_Accuracy: 32.65 , Validation_Loss: 1.8849242180585861\n",
            "Epoch [9/10], Step [25/125]\n",
            "Epoch [9/10], Step [50/125]\n",
            "Epoch [9/10], Step [75/125]\n",
            "Epoch [9/10], Step [100/125]\n",
            "Epoch [9/10], Step [125/125]\n",
            "Finished Training\n",
            "Epoch 9, Training_Accuracy: 32.76659582447806 , Training_Loss: 1.896578733444214\n",
            "Epoch 9, Validation_Accuracy: 34.5 , Validation_Loss: 1.8378143832087517\n",
            "Epoch [10/10], Step [25/125]\n",
            "Epoch [10/10], Step [50/125]\n",
            "Epoch [10/10], Step [75/125]\n",
            "Epoch [10/10], Step [100/125]\n",
            "Epoch [10/10], Step [125/125]\n",
            "Finished Training\n",
            "Epoch 10, Training_Accuracy: 33.754219277409675 , Training_Loss: 1.8714602642059326\n",
            "Epoch 10, Validation_Accuracy: 35.65 , Validation_Loss: 1.842189159244299\n"
          ]
        },
        {
          "output_type": "display_data",
          "data": {
            "text/plain": [
              "<IPython.core.display.HTML object>"
            ],
            "text/html": []
          },
          "metadata": {}
        },
        {
          "output_type": "display_data",
          "data": {
            "text/plain": [
              "<IPython.core.display.HTML object>"
            ],
            "text/html": [
              "<br>    <style><br>        .wandb-row {<br>            display: flex;<br>            flex-direction: row;<br>            flex-wrap: wrap;<br>            justify-content: flex-start;<br>            width: 100%;<br>        }<br>        .wandb-col {<br>            display: flex;<br>            flex-direction: column;<br>            flex-basis: 100%;<br>            flex: 1;<br>            padding: 10px;<br>        }<br>    </style><br><div class=\"wandb-row\"><div class=\"wandb-col\"><h3>Run history:</h3><br/><table class=\"wandb\"><tr><td>Epoch</td><td>▁▂▃▃▄▅▆▆▇█</td></tr><tr><td>Training_Accuracy</td><td>▁▄▅▅▆▇▇▇██</td></tr><tr><td>Training_Loss</td><td>█▆▅▄▃▃▂▂▁▁</td></tr><tr><td>Val_Accuracy</td><td>▁</td></tr><tr><td>Validation_Accuracy</td><td>▁▃▄▅▆▆▆▆▇█</td></tr><tr><td>Validation_Loss</td><td>█▆▅▄▃▃▂▂▁▁</td></tr></table><br/></div><div class=\"wandb-col\"><h3>Run summary:</h3><br/><table class=\"wandb\"><tr><td>Epoch</td><td>10</td></tr><tr><td>Training_Accuracy</td><td>33.75422</td></tr><tr><td>Training_Loss</td><td>1.87146</td></tr><tr><td>Val_Accuracy</td><td>35.65</td></tr><tr><td>Validation_Accuracy</td><td>35.65</td></tr><tr><td>Validation_Loss</td><td>1.84219</td></tr></table><br/></div></div>"
            ]
          },
          "metadata": {}
        },
        {
          "output_type": "display_data",
          "data": {
            "text/plain": [
              "<IPython.core.display.HTML object>"
            ],
            "text/html": [
              " View run <strong style=\"color:#cdcd00\">_nf_32_fo_double_dr_0.2_neu_512_act_LeakyReLU_aug_False_norm_False_ep_10</strong> at: <a href='https://wandb.ai/cs24m035-indian-institute-of-technology-madras/CS6910_Assignment2/runs/dqfow70j' target=\"_blank\">https://wandb.ai/cs24m035-indian-institute-of-technology-madras/CS6910_Assignment2/runs/dqfow70j</a><br> View project at: <a href='https://wandb.ai/cs24m035-indian-institute-of-technology-madras/CS6910_Assignment2' target=\"_blank\">https://wandb.ai/cs24m035-indian-institute-of-technology-madras/CS6910_Assignment2</a><br>Synced 5 W&B file(s), 0 media file(s), 0 artifact file(s) and 0 other file(s)"
            ]
          },
          "metadata": {}
        },
        {
          "output_type": "display_data",
          "data": {
            "text/plain": [
              "<IPython.core.display.HTML object>"
            ],
            "text/html": [
              "Find logs at: <code>./wandb/run-20250410_180724-dqfow70j/logs</code>"
            ]
          },
          "metadata": {}
        },
        {
          "output_type": "stream",
          "name": "stderr",
          "text": [
            "\u001b[34m\u001b[1mwandb\u001b[0m: Agent Starting Run: j44dqu4z with config:\n",
            "\u001b[34m\u001b[1mwandb\u001b[0m: \tactivation: GELU\n",
            "\u001b[34m\u001b[1mwandb\u001b[0m: \tbatch_norm: True\n",
            "\u001b[34m\u001b[1mwandb\u001b[0m: \tdata_augmentation: False\n",
            "\u001b[34m\u001b[1mwandb\u001b[0m: \tdropout_rate: 0.2\n",
            "\u001b[34m\u001b[1mwandb\u001b[0m: \tepochs: 10\n",
            "\u001b[34m\u001b[1mwandb\u001b[0m: \tfilter_organisation: double\n",
            "\u001b[34m\u001b[1mwandb\u001b[0m: \tfilter_size: 5\n",
            "\u001b[34m\u001b[1mwandb\u001b[0m: \tnum_filters: 32\n",
            "\u001b[34m\u001b[1mwandb\u001b[0m: \tnum_neurons_dense: 512\n"
          ]
        },
        {
          "output_type": "display_data",
          "data": {
            "text/plain": [
              "<IPython.core.display.HTML object>"
            ],
            "text/html": [
              "Ignoring project 'CS6910_Assignment2' when running a sweep."
            ]
          },
          "metadata": {}
        },
        {
          "output_type": "display_data",
          "data": {
            "text/plain": [
              "<IPython.core.display.HTML object>"
            ],
            "text/html": [
              "Tracking run with wandb version 0.19.9"
            ]
          },
          "metadata": {}
        },
        {
          "output_type": "display_data",
          "data": {
            "text/plain": [
              "<IPython.core.display.HTML object>"
            ],
            "text/html": [
              "Run data is saved locally in <code>/content/wandb/run-20250410_182335-j44dqu4z</code>"
            ]
          },
          "metadata": {}
        },
        {
          "output_type": "display_data",
          "data": {
            "text/plain": [
              "<IPython.core.display.HTML object>"
            ],
            "text/html": [
              "Syncing run <strong><a href='https://wandb.ai/cs24m035-indian-institute-of-technology-madras/CS6910_Assignment2/runs/j44dqu4z' target=\"_blank\">part_A_question2</a></strong> to <a href='https://wandb.ai/cs24m035-indian-institute-of-technology-madras/CS6910_Assignment2' target=\"_blank\">Weights & Biases</a> (<a href='https://wandb.me/developer-guide' target=\"_blank\">docs</a>)<br>Sweep page: <a href='https://wandb.ai/cs24m035-indian-institute-of-technology-madras/CS6910_Assignment2/sweeps/fjduncsb' target=\"_blank\">https://wandb.ai/cs24m035-indian-institute-of-technology-madras/CS6910_Assignment2/sweeps/fjduncsb</a>"
            ]
          },
          "metadata": {}
        },
        {
          "output_type": "display_data",
          "data": {
            "text/plain": [
              "<IPython.core.display.HTML object>"
            ],
            "text/html": [
              " View project at <a href='https://wandb.ai/cs24m035-indian-institute-of-technology-madras/CS6910_Assignment2' target=\"_blank\">https://wandb.ai/cs24m035-indian-institute-of-technology-madras/CS6910_Assignment2</a>"
            ]
          },
          "metadata": {}
        },
        {
          "output_type": "display_data",
          "data": {
            "text/plain": [
              "<IPython.core.display.HTML object>"
            ],
            "text/html": [
              " View sweep at <a href='https://wandb.ai/cs24m035-indian-institute-of-technology-madras/CS6910_Assignment2/sweeps/fjduncsb' target=\"_blank\">https://wandb.ai/cs24m035-indian-institute-of-technology-madras/CS6910_Assignment2/sweeps/fjduncsb</a>"
            ]
          },
          "metadata": {}
        },
        {
          "output_type": "display_data",
          "data": {
            "text/plain": [
              "<IPython.core.display.HTML object>"
            ],
            "text/html": [
              " View run at <a href='https://wandb.ai/cs24m035-indian-institute-of-technology-madras/CS6910_Assignment2/runs/j44dqu4z' target=\"_blank\">https://wandb.ai/cs24m035-indian-institute-of-technology-madras/CS6910_Assignment2/runs/j44dqu4z</a>"
            ]
          },
          "metadata": {}
        },
        {
          "output_type": "stream",
          "name": "stdout",
          "text": [
            "[5, 5, 5, 5, 5]\n",
            "[32, 64, 128, 256, 512]\n",
            "CNN(\n",
            "  (activations): GELU(approximate='none')\n",
            "  (dense_activation): GELU(approximate='none')\n",
            "  (conv_layers): ModuleList(\n",
            "    (0): Conv2d(3, 32, kernel_size=(5, 5), stride=(1, 1))\n",
            "    (1): BatchNorm2d(32, eps=0.001, momentum=0.1, affine=True, track_running_stats=True)\n",
            "    (2): GELU(approximate='none')\n",
            "    (3): MaxPool2d(kernel_size=2, stride=2, padding=0, dilation=1, ceil_mode=False)\n",
            "    (4): Conv2d(32, 64, kernel_size=(5, 5), stride=(1, 1))\n",
            "    (5): BatchNorm2d(64, eps=0.001, momentum=0.1, affine=True, track_running_stats=True)\n",
            "    (6): GELU(approximate='none')\n",
            "    (7): MaxPool2d(kernel_size=2, stride=2, padding=0, dilation=1, ceil_mode=False)\n",
            "    (8): Conv2d(64, 128, kernel_size=(5, 5), stride=(1, 1))\n",
            "    (9): BatchNorm2d(128, eps=0.001, momentum=0.1, affine=True, track_running_stats=True)\n",
            "    (10): GELU(approximate='none')\n",
            "    (11): MaxPool2d(kernel_size=2, stride=2, padding=0, dilation=1, ceil_mode=False)\n",
            "    (12): Conv2d(128, 256, kernel_size=(5, 5), stride=(1, 1))\n",
            "    (13): BatchNorm2d(256, eps=0.001, momentum=0.1, affine=True, track_running_stats=True)\n",
            "    (14): GELU(approximate='none')\n",
            "    (15): MaxPool2d(kernel_size=2, stride=2, padding=0, dilation=1, ceil_mode=False)\n",
            "    (16): Conv2d(256, 512, kernel_size=(5, 5), stride=(1, 1))\n",
            "    (17): BatchNorm2d(512, eps=0.001, momentum=0.1, affine=True, track_running_stats=True)\n",
            "    (18): GELU(approximate='none')\n",
            "    (19): MaxPool2d(kernel_size=2, stride=2, padding=0, dilation=1, ceil_mode=False)\n",
            "  )\n",
            "  (dense): Linear(in_features=4608, out_features=512, bias=True)\n",
            "  (bn): BatchNorm2d(512, eps=0.001, momentum=0.1, affine=True, track_running_stats=True)\n",
            "  (dropout): Dropout(p=0.2, inplace=False)\n",
            "  (output): Linear(in_features=512, out_features=10, bias=True)\n",
            ")\n",
            "Epoch [1/10], Step [25/125]\n",
            "Epoch [1/10], Step [50/125]\n",
            "Epoch [1/10], Step [75/125]\n",
            "Epoch [1/10], Step [100/125]\n"
          ]
        }
      ]
    },
    {
      "cell_type": "code",
      "source": [],
      "metadata": {
        "id": "AdQ7uV13Z9Bd"
      },
      "execution_count": null,
      "outputs": []
    }
  ]
}